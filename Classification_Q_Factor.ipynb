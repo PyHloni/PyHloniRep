{
  "nbformat": 4,
  "nbformat_minor": 0,
  "metadata": {
    "colab": {
      "provenance": [],
      "gpuType": "T4",
      "authorship_tag": "ABX9TyPhdXSV7H+eEboJdkRwCZPe",
      "include_colab_link": true
    },
    "kernelspec": {
      "name": "python3",
      "display_name": "Python 3"
    },
    "language_info": {
      "name": "python"
    },
    "accelerator": "GPU"
  },
  "cells": [
    {
      "cell_type": "markdown",
      "metadata": {
        "id": "view-in-github",
        "colab_type": "text"
      },
      "source": [
        "<a href=\"https://colab.research.google.com/github/PyHloni/PyHloniRep/blob/main/Classification_Q_Factor.ipynb\" target=\"_parent\"><img src=\"https://colab.research.google.com/assets/colab-badge.svg\" alt=\"Open In Colab\"/></a>"
      ]
    },
    {
      "cell_type": "code",
      "execution_count": null,
      "metadata": {
        "id": "05_ga_MyTmJF"
      },
      "outputs": [],
      "source": [
        "import pandas as pd\n",
        "import numpy as np\n",
        "import matplotlib.pyplot as plt\n",
        "from imblearn.over_sampling import RandomOverSampler\n",
        "from sklearn.preprocessing import StandardScaler\n",
        "import copy\n",
        "import seaborn as sns\n",
        "import tensorflow as tf\n",
        "from sklearn.linear_model import LinearRegression"
      ]
    },
    {
      "cell_type": "code",
      "source": [
        "read_file = pd.read_csv ('channel_11_segment_1.txt')\n",
        "read_file.to_csv ('channel_11_segment_1.csv', index=None)"
      ],
      "metadata": {
        "id": "wgHwE_DoTyXH"
      },
      "execution_count": null,
      "outputs": []
    },
    {
      "cell_type": "code",
      "source": [
        "headerList = ['Data']\n",
        "read_file.to_csv(\"channel_11_segment_1.csv\", header = headerList, index=False)"
      ],
      "metadata": {
        "id": "G7oVwUpKT06V"
      },
      "execution_count": null,
      "outputs": []
    },
    {
      "cell_type": "code",
      "source": [
        "df = pd.read_csv(\"channel_11_segment_1.csv\")"
      ],
      "metadata": {
        "id": "7zao8J2jT2wO"
      },
      "execution_count": null,
      "outputs": []
    },
    {
      "cell_type": "code",
      "source": [
        "df['Data'].str.split('\\t')\n",
        "df['Data'].str.split('\\t', expand=True)\n",
        "dataset_cols = ['Date', 'Q_Factor','TX_Power','Chromatic_Dispersion','Polarization_Mode_Dispersion']\n",
        "df = pd.read_csv(\"channel_11_segment_1.csv\")\n",
        "df[dataset_cols] = df['Data'].str.split('\\t', expand=True)\n",
        "#df[['Date', 'Q_Factor','TX_Power','Chromatic_Dispersion','Polarization_Mode_Dispersion']] = df['Data'].str.split('\\t', expand=True)"
      ],
      "metadata": {
        "id": "D7VOwWeKT7Q-"
      },
      "execution_count": null,
      "outputs": []
    },
    {
      "cell_type": "code",
      "source": [
        "df['Q_Factor'] = df['Q_Factor'].astype(float)\n",
        "df['TX_Power'] = df['TX_Power'].astype(float)\n",
        "df['Chromatic_Dispersion'] = df['Chromatic_Dispersion'].astype(float)\n",
        "df['Polarization_Mode_Dispersion'] = df['Polarization_Mode_Dispersion'].astype(float)\n",
        "\n",
        "df.dtypes"
      ],
      "metadata": {
        "id": "pFPk1B0rUBhO",
        "colab": {
          "base_uri": "https://localhost:8080/"
        },
        "outputId": "6f14b06d-6391-4ce8-b0ae-93575cad7175"
      },
      "execution_count": null,
      "outputs": [
        {
          "output_type": "execute_result",
          "data": {
            "text/plain": [
              "Data                             object\n",
              "Date                             object\n",
              "Q_Factor                        float64\n",
              "TX_Power                        float64\n",
              "Chromatic_Dispersion            float64\n",
              "Polarization_Mode_Dispersion    float64\n",
              "dtype: object"
            ]
          },
          "metadata": {},
          "execution_count": 6
        }
      ]
    },
    {
      "cell_type": "code",
      "source": [
        "#drop column\n",
        "df.drop(['Data'], axis=1)"
      ],
      "metadata": {
        "id": "B1uy5ukdUEsG",
        "colab": {
          "base_uri": "https://localhost:8080/",
          "height": 483
        },
        "outputId": "2475160b-6a5d-4b67-bed4-93a72c689e74"
      },
      "execution_count": null,
      "outputs": [
        {
          "output_type": "execute_result",
          "data": {
            "text/plain": [
              "                      Date  Q_Factor  TX_Power  Chromatic_Dispersion  \\\n",
              "0      2015.03.19.00.15.00     14.72    -10.74                -91.06   \n",
              "1      2015.03.19.00.30.00     14.72    -10.74                -91.06   \n",
              "2      2015.03.19.00.45.00     14.70    -10.74                -91.17   \n",
              "3      2015.03.19.01.00.00     14.56    -10.74                -92.30   \n",
              "4      2015.03.19.01.15.00     14.55    -10.74                -94.09   \n",
              "...                    ...       ...       ...                   ...   \n",
              "32231  2016.03.31.11.45.00     14.80    -10.38                -97.99   \n",
              "32232  2016.03.31.12.00.00     14.80    -10.38                -98.45   \n",
              "32233  2016.03.31.12.15.00     14.80    -10.38                -97.97   \n",
              "32234  2016.03.31.12.30.00     14.80    -10.38                -97.88   \n",
              "32235  2016.03.31.12.45.00     14.82    -10.38                -98.19   \n",
              "\n",
              "       Polarization_Mode_Dispersion  \n",
              "0                              8.72  \n",
              "1                              8.72  \n",
              "2                              8.76  \n",
              "3                              9.10  \n",
              "4                              8.81  \n",
              "...                             ...  \n",
              "32231                          9.73  \n",
              "32232                          9.68  \n",
              "32233                          9.71  \n",
              "32234                          9.81  \n",
              "32235                          9.82  \n",
              "\n",
              "[32236 rows x 5 columns]"
            ],
            "text/html": [
              "\n",
              "\n",
              "  <div id=\"df-c6853010-ada1-4316-a8bc-f01c5531622f\">\n",
              "    <div class=\"colab-df-container\">\n",
              "      <div>\n",
              "<style scoped>\n",
              "    .dataframe tbody tr th:only-of-type {\n",
              "        vertical-align: middle;\n",
              "    }\n",
              "\n",
              "    .dataframe tbody tr th {\n",
              "        vertical-align: top;\n",
              "    }\n",
              "\n",
              "    .dataframe thead th {\n",
              "        text-align: right;\n",
              "    }\n",
              "</style>\n",
              "<table border=\"1\" class=\"dataframe\">\n",
              "  <thead>\n",
              "    <tr style=\"text-align: right;\">\n",
              "      <th></th>\n",
              "      <th>Date</th>\n",
              "      <th>Q_Factor</th>\n",
              "      <th>TX_Power</th>\n",
              "      <th>Chromatic_Dispersion</th>\n",
              "      <th>Polarization_Mode_Dispersion</th>\n",
              "    </tr>\n",
              "  </thead>\n",
              "  <tbody>\n",
              "    <tr>\n",
              "      <th>0</th>\n",
              "      <td>2015.03.19.00.15.00</td>\n",
              "      <td>14.72</td>\n",
              "      <td>-10.74</td>\n",
              "      <td>-91.06</td>\n",
              "      <td>8.72</td>\n",
              "    </tr>\n",
              "    <tr>\n",
              "      <th>1</th>\n",
              "      <td>2015.03.19.00.30.00</td>\n",
              "      <td>14.72</td>\n",
              "      <td>-10.74</td>\n",
              "      <td>-91.06</td>\n",
              "      <td>8.72</td>\n",
              "    </tr>\n",
              "    <tr>\n",
              "      <th>2</th>\n",
              "      <td>2015.03.19.00.45.00</td>\n",
              "      <td>14.70</td>\n",
              "      <td>-10.74</td>\n",
              "      <td>-91.17</td>\n",
              "      <td>8.76</td>\n",
              "    </tr>\n",
              "    <tr>\n",
              "      <th>3</th>\n",
              "      <td>2015.03.19.01.00.00</td>\n",
              "      <td>14.56</td>\n",
              "      <td>-10.74</td>\n",
              "      <td>-92.30</td>\n",
              "      <td>9.10</td>\n",
              "    </tr>\n",
              "    <tr>\n",
              "      <th>4</th>\n",
              "      <td>2015.03.19.01.15.00</td>\n",
              "      <td>14.55</td>\n",
              "      <td>-10.74</td>\n",
              "      <td>-94.09</td>\n",
              "      <td>8.81</td>\n",
              "    </tr>\n",
              "    <tr>\n",
              "      <th>...</th>\n",
              "      <td>...</td>\n",
              "      <td>...</td>\n",
              "      <td>...</td>\n",
              "      <td>...</td>\n",
              "      <td>...</td>\n",
              "    </tr>\n",
              "    <tr>\n",
              "      <th>32231</th>\n",
              "      <td>2016.03.31.11.45.00</td>\n",
              "      <td>14.80</td>\n",
              "      <td>-10.38</td>\n",
              "      <td>-97.99</td>\n",
              "      <td>9.73</td>\n",
              "    </tr>\n",
              "    <tr>\n",
              "      <th>32232</th>\n",
              "      <td>2016.03.31.12.00.00</td>\n",
              "      <td>14.80</td>\n",
              "      <td>-10.38</td>\n",
              "      <td>-98.45</td>\n",
              "      <td>9.68</td>\n",
              "    </tr>\n",
              "    <tr>\n",
              "      <th>32233</th>\n",
              "      <td>2016.03.31.12.15.00</td>\n",
              "      <td>14.80</td>\n",
              "      <td>-10.38</td>\n",
              "      <td>-97.97</td>\n",
              "      <td>9.71</td>\n",
              "    </tr>\n",
              "    <tr>\n",
              "      <th>32234</th>\n",
              "      <td>2016.03.31.12.30.00</td>\n",
              "      <td>14.80</td>\n",
              "      <td>-10.38</td>\n",
              "      <td>-97.88</td>\n",
              "      <td>9.81</td>\n",
              "    </tr>\n",
              "    <tr>\n",
              "      <th>32235</th>\n",
              "      <td>2016.03.31.12.45.00</td>\n",
              "      <td>14.82</td>\n",
              "      <td>-10.38</td>\n",
              "      <td>-98.19</td>\n",
              "      <td>9.82</td>\n",
              "    </tr>\n",
              "  </tbody>\n",
              "</table>\n",
              "<p>32236 rows × 5 columns</p>\n",
              "</div>\n",
              "      <button class=\"colab-df-convert\" onclick=\"convertToInteractive('df-c6853010-ada1-4316-a8bc-f01c5531622f')\"\n",
              "              title=\"Convert this dataframe to an interactive table.\"\n",
              "              style=\"display:none;\">\n",
              "\n",
              "  <svg xmlns=\"http://www.w3.org/2000/svg\" height=\"24px\"viewBox=\"0 0 24 24\"\n",
              "       width=\"24px\">\n",
              "    <path d=\"M0 0h24v24H0V0z\" fill=\"none\"/>\n",
              "    <path d=\"M18.56 5.44l.94 2.06.94-2.06 2.06-.94-2.06-.94-.94-2.06-.94 2.06-2.06.94zm-11 1L8.5 8.5l.94-2.06 2.06-.94-2.06-.94L8.5 2.5l-.94 2.06-2.06.94zm10 10l.94 2.06.94-2.06 2.06-.94-2.06-.94-.94-2.06-.94 2.06-2.06.94z\"/><path d=\"M17.41 7.96l-1.37-1.37c-.4-.4-.92-.59-1.43-.59-.52 0-1.04.2-1.43.59L10.3 9.45l-7.72 7.72c-.78.78-.78 2.05 0 2.83L4 21.41c.39.39.9.59 1.41.59.51 0 1.02-.2 1.41-.59l7.78-7.78 2.81-2.81c.8-.78.8-2.07 0-2.86zM5.41 20L4 18.59l7.72-7.72 1.47 1.35L5.41 20z\"/>\n",
              "  </svg>\n",
              "      </button>\n",
              "\n",
              "\n",
              "\n",
              "    <div id=\"df-ad427698-8dbc-4787-a990-f20d6838af7a\">\n",
              "      <button class=\"colab-df-quickchart\" onclick=\"quickchart('df-ad427698-8dbc-4787-a990-f20d6838af7a')\"\n",
              "              title=\"Suggest charts.\"\n",
              "              style=\"display:none;\">\n",
              "\n",
              "<svg xmlns=\"http://www.w3.org/2000/svg\" height=\"24px\"viewBox=\"0 0 24 24\"\n",
              "     width=\"24px\">\n",
              "    <g>\n",
              "        <path d=\"M19 3H5c-1.1 0-2 .9-2 2v14c0 1.1.9 2 2 2h14c1.1 0 2-.9 2-2V5c0-1.1-.9-2-2-2zM9 17H7v-7h2v7zm4 0h-2V7h2v10zm4 0h-2v-4h2v4z\"/>\n",
              "    </g>\n",
              "</svg>\n",
              "      </button>\n",
              "    </div>\n",
              "\n",
              "<style>\n",
              "  .colab-df-quickchart {\n",
              "    background-color: #E8F0FE;\n",
              "    border: none;\n",
              "    border-radius: 50%;\n",
              "    cursor: pointer;\n",
              "    display: none;\n",
              "    fill: #1967D2;\n",
              "    height: 32px;\n",
              "    padding: 0 0 0 0;\n",
              "    width: 32px;\n",
              "  }\n",
              "\n",
              "  .colab-df-quickchart:hover {\n",
              "    background-color: #E2EBFA;\n",
              "    box-shadow: 0px 1px 2px rgba(60, 64, 67, 0.3), 0px 1px 3px 1px rgba(60, 64, 67, 0.15);\n",
              "    fill: #174EA6;\n",
              "  }\n",
              "\n",
              "  [theme=dark] .colab-df-quickchart {\n",
              "    background-color: #3B4455;\n",
              "    fill: #D2E3FC;\n",
              "  }\n",
              "\n",
              "  [theme=dark] .colab-df-quickchart:hover {\n",
              "    background-color: #434B5C;\n",
              "    box-shadow: 0px 1px 3px 1px rgba(0, 0, 0, 0.15);\n",
              "    filter: drop-shadow(0px 1px 2px rgba(0, 0, 0, 0.3));\n",
              "    fill: #FFFFFF;\n",
              "  }\n",
              "</style>\n",
              "\n",
              "    <script>\n",
              "      async function quickchart(key) {\n",
              "        const containerElement = document.querySelector('#' + key);\n",
              "        const charts = await google.colab.kernel.invokeFunction(\n",
              "            'suggestCharts', [key], {});\n",
              "      }\n",
              "    </script>\n",
              "\n",
              "      <script>\n",
              "\n",
              "function displayQuickchartButton(domScope) {\n",
              "  let quickchartButtonEl =\n",
              "    domScope.querySelector('#df-ad427698-8dbc-4787-a990-f20d6838af7a button.colab-df-quickchart');\n",
              "  quickchartButtonEl.style.display =\n",
              "    google.colab.kernel.accessAllowed ? 'block' : 'none';\n",
              "}\n",
              "\n",
              "        displayQuickchartButton(document);\n",
              "      </script>\n",
              "      <style>\n",
              "    .colab-df-container {\n",
              "      display:flex;\n",
              "      flex-wrap:wrap;\n",
              "      gap: 12px;\n",
              "    }\n",
              "\n",
              "    .colab-df-convert {\n",
              "      background-color: #E8F0FE;\n",
              "      border: none;\n",
              "      border-radius: 50%;\n",
              "      cursor: pointer;\n",
              "      display: none;\n",
              "      fill: #1967D2;\n",
              "      height: 32px;\n",
              "      padding: 0 0 0 0;\n",
              "      width: 32px;\n",
              "    }\n",
              "\n",
              "    .colab-df-convert:hover {\n",
              "      background-color: #E2EBFA;\n",
              "      box-shadow: 0px 1px 2px rgba(60, 64, 67, 0.3), 0px 1px 3px 1px rgba(60, 64, 67, 0.15);\n",
              "      fill: #174EA6;\n",
              "    }\n",
              "\n",
              "    [theme=dark] .colab-df-convert {\n",
              "      background-color: #3B4455;\n",
              "      fill: #D2E3FC;\n",
              "    }\n",
              "\n",
              "    [theme=dark] .colab-df-convert:hover {\n",
              "      background-color: #434B5C;\n",
              "      box-shadow: 0px 1px 3px 1px rgba(0, 0, 0, 0.15);\n",
              "      filter: drop-shadow(0px 1px 2px rgba(0, 0, 0, 0.3));\n",
              "      fill: #FFFFFF;\n",
              "    }\n",
              "  </style>\n",
              "\n",
              "      <script>\n",
              "        const buttonEl =\n",
              "          document.querySelector('#df-c6853010-ada1-4316-a8bc-f01c5531622f button.colab-df-convert');\n",
              "        buttonEl.style.display =\n",
              "          google.colab.kernel.accessAllowed ? 'block' : 'none';\n",
              "\n",
              "        async function convertToInteractive(key) {\n",
              "          const element = document.querySelector('#df-c6853010-ada1-4316-a8bc-f01c5531622f');\n",
              "          const dataTable =\n",
              "            await google.colab.kernel.invokeFunction('convertToInteractive',\n",
              "                                                     [key], {});\n",
              "          if (!dataTable) return;\n",
              "\n",
              "          const docLinkHtml = 'Like what you see? Visit the ' +\n",
              "            '<a target=\"_blank\" href=https://colab.research.google.com/notebooks/data_table.ipynb>data table notebook</a>'\n",
              "            + ' to learn more about interactive tables.';\n",
              "          element.innerHTML = '';\n",
              "          dataTable['output_type'] = 'display_data';\n",
              "          await google.colab.output.renderOutput(dataTable, element);\n",
              "          const docLink = document.createElement('div');\n",
              "          docLink.innerHTML = docLinkHtml;\n",
              "          element.appendChild(docLink);\n",
              "        }\n",
              "      </script>\n",
              "    </div>\n",
              "  </div>\n"
            ]
          },
          "metadata": {},
          "execution_count": 7
        }
      ]
    },
    {
      "cell_type": "code",
      "source": [
        "df.drop(df[(df['Q_Factor'] <6.5)].index, inplace=True)\n",
        "df.drop(df[(df['TX_Power'] < -12)].index, inplace=True)\n",
        "len(df)"
      ],
      "metadata": {
        "id": "u5CWtOhlUG8X"
      },
      "execution_count": null,
      "outputs": []
    },
    {
      "cell_type": "code",
      "source": [
        "X = df.iloc[:, 3: 6]\n",
        "#XX = df.iloc[:,3:4]"
      ],
      "metadata": {
        "id": "gxEo5ASgVstG"
      },
      "execution_count": null,
      "outputs": []
    },
    {
      "cell_type": "code",
      "source": [
        "X = df.iloc[:, 3: 6].values\n",
        "#XX = df.iloc[:,3:4].values"
      ],
      "metadata": {
        "id": "LkKX96SmWNeO"
      },
      "execution_count": null,
      "outputs": []
    },
    {
      "cell_type": "code",
      "source": [
        "X.shape\n"
      ],
      "metadata": {
        "id": "keg7uRU8WUHm"
      },
      "execution_count": null,
      "outputs": []
    },
    {
      "cell_type": "code",
      "source": [
        "X = df.iloc[:, 3: 6].values.reshape(-1,1)\n",
        "#XX = df.iloc[:,3:4].values.reshape(-1,1)"
      ],
      "metadata": {
        "id": "aAOK7uPWWahG"
      },
      "execution_count": null,
      "outputs": []
    },
    {
      "cell_type": "code",
      "source": [
        "X"
      ],
      "metadata": {
        "id": "WjVV9kPTWhA2"
      },
      "execution_count": null,
      "outputs": []
    },
    {
      "cell_type": "code",
      "source": [
        "X.shape\n",
        "#XX.shape"
      ],
      "metadata": {
        "id": "z_6V0wixWlVH"
      },
      "execution_count": null,
      "outputs": []
    },
    {
      "cell_type": "code",
      "source": [
        "y = df.iloc[:, 2]"
      ],
      "metadata": {
        "id": "6IZpYfQ3Wnp-"
      },
      "execution_count": null,
      "outputs": []
    },
    {
      "cell_type": "code",
      "source": [
        "y"
      ],
      "metadata": {
        "id": "NZ2sOyMdWvKO"
      },
      "execution_count": null,
      "outputs": []
    },
    {
      "cell_type": "code",
      "source": [
        "plt.scatter(XX,y)\n",
        "plt.title(\"Channel 11 segment 1 Visualization\")\n",
        "plt.xlabel(\"Q Factor (dB)\")\n",
        "plt.ylabel(\"Paramaeters\")"
      ],
      "metadata": {
        "id": "wlQgOLcnW9FP"
      },
      "execution_count": null,
      "outputs": []
    },
    {
      "cell_type": "code",
      "source": [
        "lr = LinearRegression()\n",
        "model = lr.fit(XX,y)"
      ],
      "metadata": {
        "id": "RchBXbUUYSC3"
      },
      "execution_count": null,
      "outputs": []
    },
    {
      "cell_type": "code",
      "source": [
        "model.intercept_"
      ],
      "metadata": {
        "id": "5gQ0g9CCYvZ-"
      },
      "execution_count": null,
      "outputs": []
    },
    {
      "cell_type": "code",
      "source": [
        "model.coef_"
      ],
      "metadata": {
        "id": "wU7M60O4YzfW"
      },
      "execution_count": null,
      "outputs": []
    },
    {
      "cell_type": "code",
      "source": [],
      "metadata": {
        "id": "Ucxh-fKTY2qO"
      },
      "execution_count": null,
      "outputs": []
    },
    {
      "cell_type": "markdown",
      "source": [
        "Predict"
      ],
      "metadata": {
        "id": "jid2x0puY8ov"
      }
    },
    {
      "cell_type": "code",
      "source": [
        "y_pred = XX*model.coef_ + model.intercept_"
      ],
      "metadata": {
        "id": "MnH0X3PGY9WX"
      },
      "execution_count": null,
      "outputs": []
    },
    {
      "cell_type": "code",
      "source": [
        "y_pred"
      ],
      "metadata": {
        "id": "Xh5PW8a7ZSlH"
      },
      "execution_count": null,
      "outputs": []
    },
    {
      "cell_type": "code",
      "source": [
        "y_pred.shape"
      ],
      "metadata": {
        "id": "Ys4h8Q3JZWKX"
      },
      "execution_count": null,
      "outputs": []
    },
    {
      "cell_type": "code",
      "source": [
        "y_pred = model.predict(XX)"
      ],
      "metadata": {
        "id": "gQ1cvuTyZa8H"
      },
      "execution_count": null,
      "outputs": []
    },
    {
      "cell_type": "code",
      "source": [
        "y_pred"
      ],
      "metadata": {
        "id": "wvQgq94PZfIW"
      },
      "execution_count": null,
      "outputs": []
    },
    {
      "cell_type": "code",
      "source": [
        "y_pred.shape"
      ],
      "metadata": {
        "id": "0m2LXm_EZh0w"
      },
      "execution_count": null,
      "outputs": []
    },
    {
      "cell_type": "code",
      "source": [
        "y_pred = model.predict([[-10]])"
      ],
      "metadata": {
        "id": "BjLAST92Zrt4"
      },
      "execution_count": null,
      "outputs": []
    },
    {
      "cell_type": "code",
      "source": [
        "y_pred"
      ],
      "metadata": {
        "id": "Em4FJ7TOZ_ow"
      },
      "execution_count": null,
      "outputs": []
    },
    {
      "cell_type": "code",
      "source": [],
      "metadata": {
        "id": "HHlnmzmRaNeI"
      },
      "execution_count": null,
      "outputs": []
    },
    {
      "cell_type": "markdown",
      "source": [
        "How good is our model"
      ],
      "metadata": {
        "id": "QUysLffWaPIA"
      }
    },
    {
      "cell_type": "markdown",
      "source": [
        "Cooefficine tof model (R squared)"
      ],
      "metadata": {
        "id": "lOhtiPllaQ9u"
      }
    },
    {
      "cell_type": "code",
      "source": [
        "model.score(XX,y)"
      ],
      "metadata": {
        "id": "VlVY6P2FaU_X"
      },
      "execution_count": null,
      "outputs": []
    },
    {
      "cell_type": "code",
      "source": [
        "y"
      ],
      "metadata": {
        "id": "DTHF07DabxT2"
      },
      "execution_count": null,
      "outputs": []
    },
    {
      "cell_type": "code",
      "source": [
        "plt.plot(XX,y, \"o\", color=\"green\")\n",
        "plt.plot(XX, y_pred, color = \"orange\")\n",
        "plt.title(\"Channel 11 segment 1 \")\n",
        "plt.xlabel(\"Transmit Power (dB)\")\n",
        "plt.ylabel(\"Q Factor (dB)\")"
      ],
      "metadata": {
        "id": "ApAL_UR_bWD_"
      },
      "execution_count": null,
      "outputs": []
    },
    {
      "cell_type": "code",
      "source": [],
      "metadata": {
        "id": "33n-quPgaqlO"
      },
      "execution_count": null,
      "outputs": []
    },
    {
      "cell_type": "markdown",
      "source": [
        "Measure accuracy"
      ],
      "metadata": {
        "id": "Bt4yp4J3cZnf"
      }
    },
    {
      "cell_type": "code",
      "source": [
        "from sklearn.model_selection import train_test_split"
      ],
      "metadata": {
        "id": "hx5zCkvucbs-"
      },
      "execution_count": null,
      "outputs": []
    },
    {
      "cell_type": "code",
      "source": [
        "X_train, X_test, y_train , y_test = train_test_split(XX, y, test_size =.3, random_state =0)    # 70% training datata , randomsize dataset"
      ],
      "metadata": {
        "id": "kfirAFZnc9QH"
      },
      "execution_count": null,
      "outputs": []
    },
    {
      "cell_type": "code",
      "source": [],
      "metadata": {
        "id": "HfDlt2rPliY4"
      },
      "execution_count": null,
      "outputs": []
    },
    {
      "cell_type": "code",
      "source": [
        "XX, y"
      ],
      "metadata": {
        "id": "8gq1sB_KU5x-"
      },
      "execution_count": null,
      "outputs": []
    },
    {
      "cell_type": "code",
      "source": [
        "print('X training data ', X_train)\n",
        "print('Y training data ', y_train)"
      ],
      "metadata": {
        "id": "UPTanlFUdvpP"
      },
      "execution_count": null,
      "outputs": []
    },
    {
      "cell_type": "code",
      "source": [
        "print('X training data ', X_test)\n",
        "print('Y training data ', y_test)"
      ],
      "metadata": {
        "id": "bh6TAnPhd7M-"
      },
      "execution_count": null,
      "outputs": []
    },
    {
      "cell_type": "code",
      "source": [
        "plt.scatter(X_train, y_train)\n",
        "plt.title(\"Channel 11 segment 1 Training Data \")\n",
        "plt.xlabel(\"Transmit Power(dB)\")\n",
        "plt.ylabel(\"Q Factor (dB)\")"
      ],
      "metadata": {
        "id": "DwBkigvoeIZh"
      },
      "execution_count": null,
      "outputs": []
    },
    {
      "cell_type": "code",
      "source": [
        "plt.scatter(X_test, y_test)\n",
        "plt.title(\"Channel 11 segment 1 Test Data \")\n",
        "plt.xlabel(\"Transmit Power(dB)\")\n",
        "plt.ylabel(\"Q Factor (dB)\")"
      ],
      "metadata": {
        "id": "aFv0BU8bejYO"
      },
      "execution_count": null,
      "outputs": []
    },
    {
      "cell_type": "code",
      "source": [
        "model = lr.fit(X_train, y_train)\n",
        "model .score(X_train, y_train)  #Training data"
      ],
      "metadata": {
        "id": "ut1qwyHwe4I3"
      },
      "execution_count": null,
      "outputs": []
    },
    {
      "cell_type": "code",
      "source": [
        "y_train_pred = model.predict(X_train)\n",
        "y_train_pred, y_train"
      ],
      "metadata": {
        "id": "LWhzPfJ3fMu3"
      },
      "execution_count": null,
      "outputs": []
    },
    {
      "cell_type": "code",
      "source": [
        "plt.plot(X_train,y_train, \"o\", color=\"green\")\n",
        "plt.plot(X_train, y_train_pred, color = \"orange\")\n",
        "plt.title(\"Channel 11 segment 1 Training Data \")\n",
        "plt.xlabel(\"Transmit Power (dB)\")\n",
        "plt.ylabel(\"Q Factor (dB)\")"
      ],
      "metadata": {
        "id": "4G7YB7GYfbjX"
      },
      "execution_count": null,
      "outputs": []
    },
    {
      "cell_type": "code",
      "source": [
        "y_test_pred = model.predict(X_test)\n",
        "y_test_pred, y_test"
      ],
      "metadata": {
        "id": "dYZzfHErfzs3"
      },
      "execution_count": null,
      "outputs": []
    },
    {
      "cell_type": "code",
      "source": [
        "model.score(X_test, y_test) # R squared on test data"
      ],
      "metadata": {
        "id": "EdKShovLf-UZ"
      },
      "execution_count": null,
      "outputs": []
    },
    {
      "cell_type": "code",
      "source": [
        "from sklearn.metrics import mean_absolute_error"
      ],
      "metadata": {
        "id": "kOE-M5D6gRb3"
      },
      "execution_count": null,
      "outputs": []
    },
    {
      "cell_type": "markdown",
      "source": [
        "how worng we are. training data we are off by"
      ],
      "metadata": {
        "id": "RZmBj3jkg4Kv"
      }
    },
    {
      "cell_type": "code",
      "source": [
        "mae_train = mean_absolute_error(y_train, y_train_pred)\n",
        "print(\"Training DATA MAE\", mae_train)"
      ],
      "metadata": {
        "id": "tx3S81hlghWf"
      },
      "execution_count": null,
      "outputs": []
    },
    {
      "cell_type": "code",
      "source": [
        "mae_test = mean_absolute_error(y_test, y_test_pred)\n",
        "print(\"Training DATA MAE\", mae_test)"
      ],
      "metadata": {
        "id": "ZAvR5FjuhH6P"
      },
      "execution_count": null,
      "outputs": []
    },
    {
      "cell_type": "code",
      "source": [
        "plt.plot(X_test,y_test, \"o\", color=\"green\")\n",
        "plt.plot(X_test, y_test_pred, color = \"orange\")\n",
        "plt.title(\"Channel 11 segment 1 Training Data \")\n",
        "plt.xlabel(\"Transmit Power (dB)\")\n",
        "plt.ylabel(\"Q Factor (dB)\")"
      ],
      "metadata": {
        "id": "SH3njXadhdv3"
      },
      "execution_count": null,
      "outputs": []
    },
    {
      "cell_type": "code",
      "source": [
        "y"
      ],
      "metadata": {
        "id": "PEp62rPwj-En"
      },
      "execution_count": null,
      "outputs": []
    },
    {
      "cell_type": "code",
      "source": [
        "import seaborn as sb\n"
      ],
      "metadata": {
        "id": "8ZZjPFk4kst_"
      },
      "execution_count": null,
      "outputs": []
    },
    {
      "cell_type": "code",
      "source": [
        "sb.pairplot(df)"
      ],
      "metadata": {
        "id": "Z_yxDCc6kvuv"
      },
      "execution_count": null,
      "outputs": []
    },
    {
      "cell_type": "code",
      "source": [
        "df.corr()"
      ],
      "metadata": {
        "id": "xbzqb7K4k80u"
      },
      "execution_count": null,
      "outputs": []
    },
    {
      "cell_type": "code",
      "source": [
        "sb.heatmap(df.corr(), annot = True, vmin=-1, vmax=1 , center=0, cmap='Greens')"
      ],
      "metadata": {
        "id": "PhYnLd7IlJdX"
      },
      "execution_count": null,
      "outputs": []
    },
    {
      "cell_type": "code",
      "source": [
        "X_train, X_test, y_train , y_test = train_test_split(X, y, test_size =.3, random_state =1)    # 70% training datata , randomsize dataset"
      ],
      "metadata": {
        "id": "zfK9HY5rljn3"
      },
      "execution_count": null,
      "outputs": []
    },
    {
      "cell_type": "code",
      "source": [
        "lr.fit(X_train, y_train)"
      ],
      "metadata": {
        "id": "ydSVbRLvmBOP"
      },
      "execution_count": null,
      "outputs": []
    },
    {
      "cell_type": "code",
      "source": [
        "y_train_pred = lr.predict(X_train)\n",
        "y_train_pred"
      ],
      "metadata": {
        "id": "xV13baQOmkR_"
      },
      "execution_count": null,
      "outputs": []
    },
    {
      "cell_type": "code",
      "source": [
        "lr.score(X_train, y_train)"
      ],
      "metadata": {
        "id": "0e8ELmgJmsRX"
      },
      "execution_count": null,
      "outputs": []
    },
    {
      "cell_type": "code",
      "source": [
        "y_test_pred = lr.predict(X_test)\n",
        "y_test_pred"
      ],
      "metadata": {
        "id": "yoJpR0c7nRYH"
      },
      "execution_count": null,
      "outputs": []
    },
    {
      "cell_type": "code",
      "source": [
        "print(\"Predidctive accuracy\", lr.score(X_test, y_test))"
      ],
      "metadata": {
        "id": "hz0XkZ1and6Y"
      },
      "execution_count": null,
      "outputs": []
    },
    {
      "cell_type": "code",
      "source": [
        "X_test"
      ],
      "metadata": {
        "id": "QaVtSib8oGzo"
      },
      "execution_count": null,
      "outputs": []
    },
    {
      "cell_type": "code",
      "source": [
        "#predict new data\n",
        "new_data = np.array([[-15, -95, 8]])\n",
        "lr.predict(new_data)"
      ],
      "metadata": {
        "id": "OWA2dWr8npsX"
      },
      "execution_count": null,
      "outputs": []
    },
    {
      "cell_type": "code",
      "source": [
        "mae_test = mean_absolute_error(y_test, y_test_pred)\n",
        "mae_test\n",
        "#print(\"With mean absolute error of {:.3f}M\".format(mae_test))"
      ],
      "metadata": {
        "id": "svIwwI8Bo5HP"
      },
      "execution_count": null,
      "outputs": []
    }
  ]
}