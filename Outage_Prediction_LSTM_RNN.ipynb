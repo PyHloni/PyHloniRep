{
  "cells": [
    {
      "cell_type": "markdown",
      "metadata": {
        "id": "view-in-github",
        "colab_type": "text"
      },
      "source": [
        "<a href=\"https://colab.research.google.com/github/PyHloni/PyHloniRep/blob/main/Outage_Prediction_LSTM_RNN.ipynb\" target=\"_parent\"><img src=\"https://colab.research.google.com/assets/colab-badge.svg\" alt=\"Open In Colab\"/></a>"
      ]
    },
    {
      "cell_type": "markdown",
      "metadata": {
        "id": "RH88FZb_az0e"
      },
      "source": [
        "Training data 70% and test data 30%"
      ]
    },
    {
      "cell_type": "code",
      "execution_count": null,
      "metadata": {
        "id": "XW15bhHgayid"
      },
      "outputs": [],
      "source": [
        "import pandas as pd\n",
        "import numpy as np\n",
        "import matplotlib as mpl\n",
        "from keras.models import Sequential\n",
        "from sklearn.model_selection import train_test_split\n",
        "from keras.preprocessing.sequence import TimeseriesGenerator\n",
        "from keras.layers import LSTM\n",
        "from keras.layers import Dense, Dropout\n",
        "import matplotlib.pyplot as plt\n",
        "from matplotlib import pyplot as plt\n",
        "from imblearn.over_sampling import RandomOverSampler\n",
        "from sklearn.preprocessing import StandardScaler, MinMaxScaler\n",
        "from datetime import datetime\n",
        "import copy\n",
        "from keras.layers import RepeatVector, TimeDistributed\n",
        "from keras.models import Model\n",
        "import seaborn as sns\n",
        "import tensorflow as tf\n",
        "from sklearn.linear_model import LinearRegression\n",
        "\n",
        "from keras.layers import LSTM, Input, Dropout\n",
        "from keras.layers import RepeatVector\n",
        "from keras.layers import TimeDistributed\n",
        "from keras.models import Model\n",
        "\n",
        "mpl.rcParams['figure.figsize'] = (10, 8)\n",
        "mpl.rcParams['axes.grid'] = False"
      ]
    },
    {
      "cell_type": "markdown",
      "metadata": {
        "id": "6-7NkDJFax-m"
      },
      "source": []
    },
    {
      "cell_type": "markdown",
      "metadata": {
        "id": "6nzs6FQzaxiu"
      },
      "source": []
    },
    {
      "cell_type": "code",
      "execution_count": null,
      "metadata": {
        "id": "3fWwyyLYAA4d"
      },
      "outputs": [],
      "source": [
        "read_file = pd.read_csv ('channel_11_segment_1.txt')\n",
        "read_file.to_csv ('channel_11_segment_1.txt', index=None)\n",
        "headerList = ['Data']\n",
        "read_file.to_csv(\"channel_11_segment_1.csv\", header = headerList, index=False)\n"
      ]
    },
    {
      "cell_type": "code",
      "execution_count": null,
      "metadata": {
        "id": "qJjEEzKwAJTq"
      },
      "outputs": [],
      "source": [
        "df = pd.read_csv(\"channel_11_segment_1.csv\")\n",
        "#read_file['Data'].str.split('\\t')\n",
        "df['Data'].str.split('\\t', expand=True)\n",
        "dataset_cols = ['Date', 'Q_Factor','TX_Power','Chromatic_Dispersion','Polarization_Mode_Dispersion']\n",
        "\n",
        "df[dataset_cols] = df['Data'].str.split('\\t', expand=True)"
      ]
    },
    {
      "cell_type": "code",
      "source": [
        "df['Features'] = 'Yes'"
      ],
      "metadata": {
        "id": "F8UW8WbOoV-O"
      },
      "execution_count": null,
      "outputs": []
    },
    {
      "cell_type": "code",
      "source": [
        "df"
      ],
      "metadata": {
        "colab": {
          "base_uri": "https://localhost:8080/",
          "height": 424
        },
        "id": "I1lf4HM3oa5N",
        "outputId": "a325f10d-b287-4fde-8a85-d5d36f6a2b18"
      },
      "execution_count": null,
      "outputs": [
        {
          "output_type": "execute_result",
          "data": {
            "text/plain": [
              "                                                   Data                 Date  \\\n",
              "0      2015.03.19.00.15.00\\t14.72\\t-10.74\\t-91.06\\t8.72  2015.03.19.00.15.00   \n",
              "1      2015.03.19.00.30.00\\t14.72\\t-10.74\\t-91.06\\t8.72  2015.03.19.00.30.00   \n",
              "2       2015.03.19.00.45.00\\t14.7\\t-10.74\\t-91.17\\t8.76  2015.03.19.00.45.00   \n",
              "3      2015.03.19.01.00.00\\t14.56\\t-10.74\\t-92.30\\t9.10  2015.03.19.01.00.00   \n",
              "4      2015.03.19.01.15.00\\t14.55\\t-10.74\\t-94.09\\t8.81  2015.03.19.01.15.00   \n",
              "...                                                 ...                  ...   \n",
              "32231   2016.03.31.11.45.00\\t14.8\\t-10.38\\t-97.99\\t9.73  2016.03.31.11.45.00   \n",
              "32232   2016.03.31.12.00.00\\t14.8\\t-10.38\\t-98.45\\t9.68  2016.03.31.12.00.00   \n",
              "32233   2016.03.31.12.15.00\\t14.8\\t-10.38\\t-97.97\\t9.71  2016.03.31.12.15.00   \n",
              "32234   2016.03.31.12.30.00\\t14.8\\t-10.38\\t-97.88\\t9.81  2016.03.31.12.30.00   \n",
              "32235  2016.03.31.12.45.00\\t14.82\\t-10.38\\t-98.19\\t9.82  2016.03.31.12.45.00   \n",
              "\n",
              "      Q_Factor TX_Power Chromatic_Dispersion Polarization_Mode_Dispersion  \\\n",
              "0        14.72   -10.74               -91.06                         8.72   \n",
              "1        14.72   -10.74               -91.06                         8.72   \n",
              "2         14.7   -10.74               -91.17                         8.76   \n",
              "3        14.56   -10.74               -92.30                         9.10   \n",
              "4        14.55   -10.74               -94.09                         8.81   \n",
              "...        ...      ...                  ...                          ...   \n",
              "32231     14.8   -10.38               -97.99                         9.73   \n",
              "32232     14.8   -10.38               -98.45                         9.68   \n",
              "32233     14.8   -10.38               -97.97                         9.71   \n",
              "32234     14.8   -10.38               -97.88                         9.81   \n",
              "32235    14.82   -10.38               -98.19                         9.82   \n",
              "\n",
              "      Features  \n",
              "0          Yes  \n",
              "1          Yes  \n",
              "2          Yes  \n",
              "3          Yes  \n",
              "4          Yes  \n",
              "...        ...  \n",
              "32231      Yes  \n",
              "32232      Yes  \n",
              "32233      Yes  \n",
              "32234      Yes  \n",
              "32235      Yes  \n",
              "\n",
              "[32236 rows x 7 columns]"
            ],
            "text/html": [
              "\n",
              "  <div id=\"df-fa4629a6-610c-43ec-9bc5-6fd1fccaa4c4\">\n",
              "    <div class=\"colab-df-container\">\n",
              "      <div>\n",
              "<style scoped>\n",
              "    .dataframe tbody tr th:only-of-type {\n",
              "        vertical-align: middle;\n",
              "    }\n",
              "\n",
              "    .dataframe tbody tr th {\n",
              "        vertical-align: top;\n",
              "    }\n",
              "\n",
              "    .dataframe thead th {\n",
              "        text-align: right;\n",
              "    }\n",
              "</style>\n",
              "<table border=\"1\" class=\"dataframe\">\n",
              "  <thead>\n",
              "    <tr style=\"text-align: right;\">\n",
              "      <th></th>\n",
              "      <th>Data</th>\n",
              "      <th>Date</th>\n",
              "      <th>Q_Factor</th>\n",
              "      <th>TX_Power</th>\n",
              "      <th>Chromatic_Dispersion</th>\n",
              "      <th>Polarization_Mode_Dispersion</th>\n",
              "      <th>Features</th>\n",
              "    </tr>\n",
              "  </thead>\n",
              "  <tbody>\n",
              "    <tr>\n",
              "      <th>0</th>\n",
              "      <td>2015.03.19.00.15.00\\t14.72\\t-10.74\\t-91.06\\t8.72</td>\n",
              "      <td>2015.03.19.00.15.00</td>\n",
              "      <td>14.72</td>\n",
              "      <td>-10.74</td>\n",
              "      <td>-91.06</td>\n",
              "      <td>8.72</td>\n",
              "      <td>Yes</td>\n",
              "    </tr>\n",
              "    <tr>\n",
              "      <th>1</th>\n",
              "      <td>2015.03.19.00.30.00\\t14.72\\t-10.74\\t-91.06\\t8.72</td>\n",
              "      <td>2015.03.19.00.30.00</td>\n",
              "      <td>14.72</td>\n",
              "      <td>-10.74</td>\n",
              "      <td>-91.06</td>\n",
              "      <td>8.72</td>\n",
              "      <td>Yes</td>\n",
              "    </tr>\n",
              "    <tr>\n",
              "      <th>2</th>\n",
              "      <td>2015.03.19.00.45.00\\t14.7\\t-10.74\\t-91.17\\t8.76</td>\n",
              "      <td>2015.03.19.00.45.00</td>\n",
              "      <td>14.7</td>\n",
              "      <td>-10.74</td>\n",
              "      <td>-91.17</td>\n",
              "      <td>8.76</td>\n",
              "      <td>Yes</td>\n",
              "    </tr>\n",
              "    <tr>\n",
              "      <th>3</th>\n",
              "      <td>2015.03.19.01.00.00\\t14.56\\t-10.74\\t-92.30\\t9.10</td>\n",
              "      <td>2015.03.19.01.00.00</td>\n",
              "      <td>14.56</td>\n",
              "      <td>-10.74</td>\n",
              "      <td>-92.30</td>\n",
              "      <td>9.10</td>\n",
              "      <td>Yes</td>\n",
              "    </tr>\n",
              "    <tr>\n",
              "      <th>4</th>\n",
              "      <td>2015.03.19.01.15.00\\t14.55\\t-10.74\\t-94.09\\t8.81</td>\n",
              "      <td>2015.03.19.01.15.00</td>\n",
              "      <td>14.55</td>\n",
              "      <td>-10.74</td>\n",
              "      <td>-94.09</td>\n",
              "      <td>8.81</td>\n",
              "      <td>Yes</td>\n",
              "    </tr>\n",
              "    <tr>\n",
              "      <th>...</th>\n",
              "      <td>...</td>\n",
              "      <td>...</td>\n",
              "      <td>...</td>\n",
              "      <td>...</td>\n",
              "      <td>...</td>\n",
              "      <td>...</td>\n",
              "      <td>...</td>\n",
              "    </tr>\n",
              "    <tr>\n",
              "      <th>32231</th>\n",
              "      <td>2016.03.31.11.45.00\\t14.8\\t-10.38\\t-97.99\\t9.73</td>\n",
              "      <td>2016.03.31.11.45.00</td>\n",
              "      <td>14.8</td>\n",
              "      <td>-10.38</td>\n",
              "      <td>-97.99</td>\n",
              "      <td>9.73</td>\n",
              "      <td>Yes</td>\n",
              "    </tr>\n",
              "    <tr>\n",
              "      <th>32232</th>\n",
              "      <td>2016.03.31.12.00.00\\t14.8\\t-10.38\\t-98.45\\t9.68</td>\n",
              "      <td>2016.03.31.12.00.00</td>\n",
              "      <td>14.8</td>\n",
              "      <td>-10.38</td>\n",
              "      <td>-98.45</td>\n",
              "      <td>9.68</td>\n",
              "      <td>Yes</td>\n",
              "    </tr>\n",
              "    <tr>\n",
              "      <th>32233</th>\n",
              "      <td>2016.03.31.12.15.00\\t14.8\\t-10.38\\t-97.97\\t9.71</td>\n",
              "      <td>2016.03.31.12.15.00</td>\n",
              "      <td>14.8</td>\n",
              "      <td>-10.38</td>\n",
              "      <td>-97.97</td>\n",
              "      <td>9.71</td>\n",
              "      <td>Yes</td>\n",
              "    </tr>\n",
              "    <tr>\n",
              "      <th>32234</th>\n",
              "      <td>2016.03.31.12.30.00\\t14.8\\t-10.38\\t-97.88\\t9.81</td>\n",
              "      <td>2016.03.31.12.30.00</td>\n",
              "      <td>14.8</td>\n",
              "      <td>-10.38</td>\n",
              "      <td>-97.88</td>\n",
              "      <td>9.81</td>\n",
              "      <td>Yes</td>\n",
              "    </tr>\n",
              "    <tr>\n",
              "      <th>32235</th>\n",
              "      <td>2016.03.31.12.45.00\\t14.82\\t-10.38\\t-98.19\\t9.82</td>\n",
              "      <td>2016.03.31.12.45.00</td>\n",
              "      <td>14.82</td>\n",
              "      <td>-10.38</td>\n",
              "      <td>-98.19</td>\n",
              "      <td>9.82</td>\n",
              "      <td>Yes</td>\n",
              "    </tr>\n",
              "  </tbody>\n",
              "</table>\n",
              "<p>32236 rows × 7 columns</p>\n",
              "</div>\n",
              "      <button class=\"colab-df-convert\" onclick=\"convertToInteractive('df-fa4629a6-610c-43ec-9bc5-6fd1fccaa4c4')\"\n",
              "              title=\"Convert this dataframe to an interactive table.\"\n",
              "              style=\"display:none;\">\n",
              "        \n",
              "  <svg xmlns=\"http://www.w3.org/2000/svg\" height=\"24px\"viewBox=\"0 0 24 24\"\n",
              "       width=\"24px\">\n",
              "    <path d=\"M0 0h24v24H0V0z\" fill=\"none\"/>\n",
              "    <path d=\"M18.56 5.44l.94 2.06.94-2.06 2.06-.94-2.06-.94-.94-2.06-.94 2.06-2.06.94zm-11 1L8.5 8.5l.94-2.06 2.06-.94-2.06-.94L8.5 2.5l-.94 2.06-2.06.94zm10 10l.94 2.06.94-2.06 2.06-.94-2.06-.94-.94-2.06-.94 2.06-2.06.94z\"/><path d=\"M17.41 7.96l-1.37-1.37c-.4-.4-.92-.59-1.43-.59-.52 0-1.04.2-1.43.59L10.3 9.45l-7.72 7.72c-.78.78-.78 2.05 0 2.83L4 21.41c.39.39.9.59 1.41.59.51 0 1.02-.2 1.41-.59l7.78-7.78 2.81-2.81c.8-.78.8-2.07 0-2.86zM5.41 20L4 18.59l7.72-7.72 1.47 1.35L5.41 20z\"/>\n",
              "  </svg>\n",
              "      </button>\n",
              "      \n",
              "  <style>\n",
              "    .colab-df-container {\n",
              "      display:flex;\n",
              "      flex-wrap:wrap;\n",
              "      gap: 12px;\n",
              "    }\n",
              "\n",
              "    .colab-df-convert {\n",
              "      background-color: #E8F0FE;\n",
              "      border: none;\n",
              "      border-radius: 50%;\n",
              "      cursor: pointer;\n",
              "      display: none;\n",
              "      fill: #1967D2;\n",
              "      height: 32px;\n",
              "      padding: 0 0 0 0;\n",
              "      width: 32px;\n",
              "    }\n",
              "\n",
              "    .colab-df-convert:hover {\n",
              "      background-color: #E2EBFA;\n",
              "      box-shadow: 0px 1px 2px rgba(60, 64, 67, 0.3), 0px 1px 3px 1px rgba(60, 64, 67, 0.15);\n",
              "      fill: #174EA6;\n",
              "    }\n",
              "\n",
              "    [theme=dark] .colab-df-convert {\n",
              "      background-color: #3B4455;\n",
              "      fill: #D2E3FC;\n",
              "    }\n",
              "\n",
              "    [theme=dark] .colab-df-convert:hover {\n",
              "      background-color: #434B5C;\n",
              "      box-shadow: 0px 1px 3px 1px rgba(0, 0, 0, 0.15);\n",
              "      filter: drop-shadow(0px 1px 2px rgba(0, 0, 0, 0.3));\n",
              "      fill: #FFFFFF;\n",
              "    }\n",
              "  </style>\n",
              "\n",
              "      <script>\n",
              "        const buttonEl =\n",
              "          document.querySelector('#df-fa4629a6-610c-43ec-9bc5-6fd1fccaa4c4 button.colab-df-convert');\n",
              "        buttonEl.style.display =\n",
              "          google.colab.kernel.accessAllowed ? 'block' : 'none';\n",
              "\n",
              "        async function convertToInteractive(key) {\n",
              "          const element = document.querySelector('#df-fa4629a6-610c-43ec-9bc5-6fd1fccaa4c4');\n",
              "          const dataTable =\n",
              "            await google.colab.kernel.invokeFunction('convertToInteractive',\n",
              "                                                     [key], {});\n",
              "          if (!dataTable) return;\n",
              "\n",
              "          const docLinkHtml = 'Like what you see? Visit the ' +\n",
              "            '<a target=\"_blank\" href=https://colab.research.google.com/notebooks/data_table.ipynb>data table notebook</a>'\n",
              "            + ' to learn more about interactive tables.';\n",
              "          element.innerHTML = '';\n",
              "          dataTable['output_type'] = 'display_data';\n",
              "          await google.colab.output.renderOutput(dataTable, element);\n",
              "          const docLink = document.createElement('div');\n",
              "          docLink.innerHTML = docLinkHtml;\n",
              "          element.appendChild(docLink);\n",
              "        }\n",
              "      </script>\n",
              "    </div>\n",
              "  </div>\n",
              "  "
            ]
          },
          "metadata": {},
          "execution_count": 66
        }
      ]
    },
    {
      "cell_type": "code",
      "execution_count": null,
      "metadata": {
        "colab": {
          "base_uri": "https://localhost:8080/"
        },
        "id": "Gek9FgykAqKs",
        "outputId": "704632d1-44a1-4bf9-dc3e-170c4ea900c2"
      },
      "outputs": [
        {
          "output_type": "execute_result",
          "data": {
            "text/plain": [
              "Data                                    object\n",
              "Date                            datetime64[ns]\n",
              "Q_Factor                               float64\n",
              "TX_Power                               float64\n",
              "Chromatic_Dispersion                   float64\n",
              "Polarization_Mode_Dispersion           float64\n",
              "dtype: object"
            ]
          },
          "metadata": {},
          "execution_count": 117
        }
      ],
      "source": [
        "df['Q_Factor'] = df['Q_Factor'].astype(float)\n",
        "df['TX_Power'] = df['TX_Power'].astype(float)\n",
        "df['Chromatic_Dispersion'] = df['Chromatic_Dispersion'].astype(float)\n",
        "df['Polarization_Mode_Dispersion'] = df['Polarization_Mode_Dispersion'].astype(float)\n",
        "\n",
        "df.dtypes"
      ]
    },
    {
      "cell_type": "code",
      "source": [],
      "metadata": {
        "id": "yAsismYuqPu9"
      },
      "execution_count": null,
      "outputs": []
    },
    {
      "cell_type": "code",
      "source": [
        "def Truth(x_val):\n",
        "  if x_val > 14.70:\n",
        "    result = '1'\n",
        "  else:\n",
        "    result = '0'\n",
        "  return result"
      ],
      "metadata": {
        "id": "XwPUYsS2pfFm"
      },
      "execution_count": null,
      "outputs": []
    },
    {
      "cell_type": "code",
      "source": [
        "df['Features'] = df['Q_Factor'].apply(Truth)"
      ],
      "metadata": {
        "id": "xtJEK2aDqQXF"
      },
      "execution_count": null,
      "outputs": []
    },
    {
      "cell_type": "code",
      "source": [
        "df"
      ],
      "metadata": {
        "colab": {
          "base_uri": "https://localhost:8080/",
          "height": 424
        },
        "id": "C2unV68hqq6F",
        "outputId": "2bb7ba9e-7bf0-4eca-af28-fcc13d9bfacc"
      },
      "execution_count": null,
      "outputs": [
        {
          "output_type": "execute_result",
          "data": {
            "text/plain": [
              "                                                   Data                 Date  \\\n",
              "0      2015.03.19.00.15.00\\t14.72\\t-10.74\\t-91.06\\t8.72  2015.03.19.00.15.00   \n",
              "1      2015.03.19.00.30.00\\t14.72\\t-10.74\\t-91.06\\t8.72  2015.03.19.00.30.00   \n",
              "2       2015.03.19.00.45.00\\t14.7\\t-10.74\\t-91.17\\t8.76  2015.03.19.00.45.00   \n",
              "3      2015.03.19.01.00.00\\t14.56\\t-10.74\\t-92.30\\t9.10  2015.03.19.01.00.00   \n",
              "4      2015.03.19.01.15.00\\t14.55\\t-10.74\\t-94.09\\t8.81  2015.03.19.01.15.00   \n",
              "...                                                 ...                  ...   \n",
              "32231   2016.03.31.11.45.00\\t14.8\\t-10.38\\t-97.99\\t9.73  2016.03.31.11.45.00   \n",
              "32232   2016.03.31.12.00.00\\t14.8\\t-10.38\\t-98.45\\t9.68  2016.03.31.12.00.00   \n",
              "32233   2016.03.31.12.15.00\\t14.8\\t-10.38\\t-97.97\\t9.71  2016.03.31.12.15.00   \n",
              "32234   2016.03.31.12.30.00\\t14.8\\t-10.38\\t-97.88\\t9.81  2016.03.31.12.30.00   \n",
              "32235  2016.03.31.12.45.00\\t14.82\\t-10.38\\t-98.19\\t9.82  2016.03.31.12.45.00   \n",
              "\n",
              "       Q_Factor  TX_Power  Chromatic_Dispersion  Polarization_Mode_Dispersion  \\\n",
              "0         14.72    -10.74                -91.06                          8.72   \n",
              "1         14.72    -10.74                -91.06                          8.72   \n",
              "2         14.70    -10.74                -91.17                          8.76   \n",
              "3         14.56    -10.74                -92.30                          9.10   \n",
              "4         14.55    -10.74                -94.09                          8.81   \n",
              "...         ...       ...                   ...                           ...   \n",
              "32231     14.80    -10.38                -97.99                          9.73   \n",
              "32232     14.80    -10.38                -98.45                          9.68   \n",
              "32233     14.80    -10.38                -97.97                          9.71   \n",
              "32234     14.80    -10.38                -97.88                          9.81   \n",
              "32235     14.82    -10.38                -98.19                          9.82   \n",
              "\n",
              "      Features  \n",
              "0            1  \n",
              "1            1  \n",
              "2            0  \n",
              "3            0  \n",
              "4            0  \n",
              "...        ...  \n",
              "32231        1  \n",
              "32232        1  \n",
              "32233        1  \n",
              "32234        1  \n",
              "32235        1  \n",
              "\n",
              "[32236 rows x 7 columns]"
            ],
            "text/html": [
              "\n",
              "  <div id=\"df-55d0ed22-0ad6-4986-aa1f-1a2ddf654442\">\n",
              "    <div class=\"colab-df-container\">\n",
              "      <div>\n",
              "<style scoped>\n",
              "    .dataframe tbody tr th:only-of-type {\n",
              "        vertical-align: middle;\n",
              "    }\n",
              "\n",
              "    .dataframe tbody tr th {\n",
              "        vertical-align: top;\n",
              "    }\n",
              "\n",
              "    .dataframe thead th {\n",
              "        text-align: right;\n",
              "    }\n",
              "</style>\n",
              "<table border=\"1\" class=\"dataframe\">\n",
              "  <thead>\n",
              "    <tr style=\"text-align: right;\">\n",
              "      <th></th>\n",
              "      <th>Data</th>\n",
              "      <th>Date</th>\n",
              "      <th>Q_Factor</th>\n",
              "      <th>TX_Power</th>\n",
              "      <th>Chromatic_Dispersion</th>\n",
              "      <th>Polarization_Mode_Dispersion</th>\n",
              "      <th>Features</th>\n",
              "    </tr>\n",
              "  </thead>\n",
              "  <tbody>\n",
              "    <tr>\n",
              "      <th>0</th>\n",
              "      <td>2015.03.19.00.15.00\\t14.72\\t-10.74\\t-91.06\\t8.72</td>\n",
              "      <td>2015.03.19.00.15.00</td>\n",
              "      <td>14.72</td>\n",
              "      <td>-10.74</td>\n",
              "      <td>-91.06</td>\n",
              "      <td>8.72</td>\n",
              "      <td>1</td>\n",
              "    </tr>\n",
              "    <tr>\n",
              "      <th>1</th>\n",
              "      <td>2015.03.19.00.30.00\\t14.72\\t-10.74\\t-91.06\\t8.72</td>\n",
              "      <td>2015.03.19.00.30.00</td>\n",
              "      <td>14.72</td>\n",
              "      <td>-10.74</td>\n",
              "      <td>-91.06</td>\n",
              "      <td>8.72</td>\n",
              "      <td>1</td>\n",
              "    </tr>\n",
              "    <tr>\n",
              "      <th>2</th>\n",
              "      <td>2015.03.19.00.45.00\\t14.7\\t-10.74\\t-91.17\\t8.76</td>\n",
              "      <td>2015.03.19.00.45.00</td>\n",
              "      <td>14.70</td>\n",
              "      <td>-10.74</td>\n",
              "      <td>-91.17</td>\n",
              "      <td>8.76</td>\n",
              "      <td>0</td>\n",
              "    </tr>\n",
              "    <tr>\n",
              "      <th>3</th>\n",
              "      <td>2015.03.19.01.00.00\\t14.56\\t-10.74\\t-92.30\\t9.10</td>\n",
              "      <td>2015.03.19.01.00.00</td>\n",
              "      <td>14.56</td>\n",
              "      <td>-10.74</td>\n",
              "      <td>-92.30</td>\n",
              "      <td>9.10</td>\n",
              "      <td>0</td>\n",
              "    </tr>\n",
              "    <tr>\n",
              "      <th>4</th>\n",
              "      <td>2015.03.19.01.15.00\\t14.55\\t-10.74\\t-94.09\\t8.81</td>\n",
              "      <td>2015.03.19.01.15.00</td>\n",
              "      <td>14.55</td>\n",
              "      <td>-10.74</td>\n",
              "      <td>-94.09</td>\n",
              "      <td>8.81</td>\n",
              "      <td>0</td>\n",
              "    </tr>\n",
              "    <tr>\n",
              "      <th>...</th>\n",
              "      <td>...</td>\n",
              "      <td>...</td>\n",
              "      <td>...</td>\n",
              "      <td>...</td>\n",
              "      <td>...</td>\n",
              "      <td>...</td>\n",
              "      <td>...</td>\n",
              "    </tr>\n",
              "    <tr>\n",
              "      <th>32231</th>\n",
              "      <td>2016.03.31.11.45.00\\t14.8\\t-10.38\\t-97.99\\t9.73</td>\n",
              "      <td>2016.03.31.11.45.00</td>\n",
              "      <td>14.80</td>\n",
              "      <td>-10.38</td>\n",
              "      <td>-97.99</td>\n",
              "      <td>9.73</td>\n",
              "      <td>1</td>\n",
              "    </tr>\n",
              "    <tr>\n",
              "      <th>32232</th>\n",
              "      <td>2016.03.31.12.00.00\\t14.8\\t-10.38\\t-98.45\\t9.68</td>\n",
              "      <td>2016.03.31.12.00.00</td>\n",
              "      <td>14.80</td>\n",
              "      <td>-10.38</td>\n",
              "      <td>-98.45</td>\n",
              "      <td>9.68</td>\n",
              "      <td>1</td>\n",
              "    </tr>\n",
              "    <tr>\n",
              "      <th>32233</th>\n",
              "      <td>2016.03.31.12.15.00\\t14.8\\t-10.38\\t-97.97\\t9.71</td>\n",
              "      <td>2016.03.31.12.15.00</td>\n",
              "      <td>14.80</td>\n",
              "      <td>-10.38</td>\n",
              "      <td>-97.97</td>\n",
              "      <td>9.71</td>\n",
              "      <td>1</td>\n",
              "    </tr>\n",
              "    <tr>\n",
              "      <th>32234</th>\n",
              "      <td>2016.03.31.12.30.00\\t14.8\\t-10.38\\t-97.88\\t9.81</td>\n",
              "      <td>2016.03.31.12.30.00</td>\n",
              "      <td>14.80</td>\n",
              "      <td>-10.38</td>\n",
              "      <td>-97.88</td>\n",
              "      <td>9.81</td>\n",
              "      <td>1</td>\n",
              "    </tr>\n",
              "    <tr>\n",
              "      <th>32235</th>\n",
              "      <td>2016.03.31.12.45.00\\t14.82\\t-10.38\\t-98.19\\t9.82</td>\n",
              "      <td>2016.03.31.12.45.00</td>\n",
              "      <td>14.82</td>\n",
              "      <td>-10.38</td>\n",
              "      <td>-98.19</td>\n",
              "      <td>9.82</td>\n",
              "      <td>1</td>\n",
              "    </tr>\n",
              "  </tbody>\n",
              "</table>\n",
              "<p>32236 rows × 7 columns</p>\n",
              "</div>\n",
              "      <button class=\"colab-df-convert\" onclick=\"convertToInteractive('df-55d0ed22-0ad6-4986-aa1f-1a2ddf654442')\"\n",
              "              title=\"Convert this dataframe to an interactive table.\"\n",
              "              style=\"display:none;\">\n",
              "        \n",
              "  <svg xmlns=\"http://www.w3.org/2000/svg\" height=\"24px\"viewBox=\"0 0 24 24\"\n",
              "       width=\"24px\">\n",
              "    <path d=\"M0 0h24v24H0V0z\" fill=\"none\"/>\n",
              "    <path d=\"M18.56 5.44l.94 2.06.94-2.06 2.06-.94-2.06-.94-.94-2.06-.94 2.06-2.06.94zm-11 1L8.5 8.5l.94-2.06 2.06-.94-2.06-.94L8.5 2.5l-.94 2.06-2.06.94zm10 10l.94 2.06.94-2.06 2.06-.94-2.06-.94-.94-2.06-.94 2.06-2.06.94z\"/><path d=\"M17.41 7.96l-1.37-1.37c-.4-.4-.92-.59-1.43-.59-.52 0-1.04.2-1.43.59L10.3 9.45l-7.72 7.72c-.78.78-.78 2.05 0 2.83L4 21.41c.39.39.9.59 1.41.59.51 0 1.02-.2 1.41-.59l7.78-7.78 2.81-2.81c.8-.78.8-2.07 0-2.86zM5.41 20L4 18.59l7.72-7.72 1.47 1.35L5.41 20z\"/>\n",
              "  </svg>\n",
              "      </button>\n",
              "      \n",
              "  <style>\n",
              "    .colab-df-container {\n",
              "      display:flex;\n",
              "      flex-wrap:wrap;\n",
              "      gap: 12px;\n",
              "    }\n",
              "\n",
              "    .colab-df-convert {\n",
              "      background-color: #E8F0FE;\n",
              "      border: none;\n",
              "      border-radius: 50%;\n",
              "      cursor: pointer;\n",
              "      display: none;\n",
              "      fill: #1967D2;\n",
              "      height: 32px;\n",
              "      padding: 0 0 0 0;\n",
              "      width: 32px;\n",
              "    }\n",
              "\n",
              "    .colab-df-convert:hover {\n",
              "      background-color: #E2EBFA;\n",
              "      box-shadow: 0px 1px 2px rgba(60, 64, 67, 0.3), 0px 1px 3px 1px rgba(60, 64, 67, 0.15);\n",
              "      fill: #174EA6;\n",
              "    }\n",
              "\n",
              "    [theme=dark] .colab-df-convert {\n",
              "      background-color: #3B4455;\n",
              "      fill: #D2E3FC;\n",
              "    }\n",
              "\n",
              "    [theme=dark] .colab-df-convert:hover {\n",
              "      background-color: #434B5C;\n",
              "      box-shadow: 0px 1px 3px 1px rgba(0, 0, 0, 0.15);\n",
              "      filter: drop-shadow(0px 1px 2px rgba(0, 0, 0, 0.3));\n",
              "      fill: #FFFFFF;\n",
              "    }\n",
              "  </style>\n",
              "\n",
              "      <script>\n",
              "        const buttonEl =\n",
              "          document.querySelector('#df-55d0ed22-0ad6-4986-aa1f-1a2ddf654442 button.colab-df-convert');\n",
              "        buttonEl.style.display =\n",
              "          google.colab.kernel.accessAllowed ? 'block' : 'none';\n",
              "\n",
              "        async function convertToInteractive(key) {\n",
              "          const element = document.querySelector('#df-55d0ed22-0ad6-4986-aa1f-1a2ddf654442');\n",
              "          const dataTable =\n",
              "            await google.colab.kernel.invokeFunction('convertToInteractive',\n",
              "                                                     [key], {});\n",
              "          if (!dataTable) return;\n",
              "\n",
              "          const docLinkHtml = 'Like what you see? Visit the ' +\n",
              "            '<a target=\"_blank\" href=https://colab.research.google.com/notebooks/data_table.ipynb>data table notebook</a>'\n",
              "            + ' to learn more about interactive tables.';\n",
              "          element.innerHTML = '';\n",
              "          dataTable['output_type'] = 'display_data';\n",
              "          await google.colab.output.renderOutput(dataTable, element);\n",
              "          const docLink = document.createElement('div');\n",
              "          docLink.innerHTML = docLinkHtml;\n",
              "          element.appendChild(docLink);\n",
              "        }\n",
              "      </script>\n",
              "    </div>\n",
              "  </div>\n",
              "  "
            ]
          },
          "metadata": {},
          "execution_count": 75
        }
      ]
    },
    {
      "cell_type": "code",
      "source": [
        "len(df)"
      ],
      "metadata": {
        "colab": {
          "base_uri": "https://localhost:8080/"
        },
        "id": "ZnmKlrBSGcX5",
        "outputId": "17e831f1-22a5-493e-e308-e31cb2bdd36b"
      },
      "execution_count": null,
      "outputs": [
        {
          "output_type": "execute_result",
          "data": {
            "text/plain": [
              "32236"
            ]
          },
          "metadata": {},
          "execution_count": 150
        }
      ]
    },
    {
      "cell_type": "code",
      "execution_count": null,
      "metadata": {
        "colab": {
          "base_uri": "https://localhost:8080/",
          "height": 424
        },
        "id": "XVLCk7eHA5pr",
        "outputId": "d4741430-8df0-4004-83aa-8da64795386b"
      },
      "outputs": [
        {
          "output_type": "execute_result",
          "data": {
            "text/plain": [
              "                      Date  Q_Factor  TX_Power  Chromatic_Dispersion  \\\n",
              "0      2015.03.19.00.15.00     14.72    -10.74                -91.06   \n",
              "1      2015.03.19.00.30.00     14.72    -10.74                -91.06   \n",
              "2      2015.03.19.00.45.00     14.70    -10.74                -91.17   \n",
              "3      2015.03.19.01.00.00     14.56    -10.74                -92.30   \n",
              "4      2015.03.19.01.15.00     14.55    -10.74                -94.09   \n",
              "...                    ...       ...       ...                   ...   \n",
              "32231  2016.03.31.11.45.00     14.80    -10.38                -97.99   \n",
              "32232  2016.03.31.12.00.00     14.80    -10.38                -98.45   \n",
              "32233  2016.03.31.12.15.00     14.80    -10.38                -97.97   \n",
              "32234  2016.03.31.12.30.00     14.80    -10.38                -97.88   \n",
              "32235  2016.03.31.12.45.00     14.82    -10.38                -98.19   \n",
              "\n",
              "       Polarization_Mode_Dispersion  \n",
              "0                              8.72  \n",
              "1                              8.72  \n",
              "2                              8.76  \n",
              "3                              9.10  \n",
              "4                              8.81  \n",
              "...                             ...  \n",
              "32231                          9.73  \n",
              "32232                          9.68  \n",
              "32233                          9.71  \n",
              "32234                          9.81  \n",
              "32235                          9.82  \n",
              "\n",
              "[32236 rows x 5 columns]"
            ],
            "text/html": [
              "\n",
              "  <div id=\"df-09b76c8c-ce65-478e-a22b-f9c46a15788d\">\n",
              "    <div class=\"colab-df-container\">\n",
              "      <div>\n",
              "<style scoped>\n",
              "    .dataframe tbody tr th:only-of-type {\n",
              "        vertical-align: middle;\n",
              "    }\n",
              "\n",
              "    .dataframe tbody tr th {\n",
              "        vertical-align: top;\n",
              "    }\n",
              "\n",
              "    .dataframe thead th {\n",
              "        text-align: right;\n",
              "    }\n",
              "</style>\n",
              "<table border=\"1\" class=\"dataframe\">\n",
              "  <thead>\n",
              "    <tr style=\"text-align: right;\">\n",
              "      <th></th>\n",
              "      <th>Date</th>\n",
              "      <th>Q_Factor</th>\n",
              "      <th>TX_Power</th>\n",
              "      <th>Chromatic_Dispersion</th>\n",
              "      <th>Polarization_Mode_Dispersion</th>\n",
              "    </tr>\n",
              "  </thead>\n",
              "  <tbody>\n",
              "    <tr>\n",
              "      <th>0</th>\n",
              "      <td>2015.03.19.00.15.00</td>\n",
              "      <td>14.72</td>\n",
              "      <td>-10.74</td>\n",
              "      <td>-91.06</td>\n",
              "      <td>8.72</td>\n",
              "    </tr>\n",
              "    <tr>\n",
              "      <th>1</th>\n",
              "      <td>2015.03.19.00.30.00</td>\n",
              "      <td>14.72</td>\n",
              "      <td>-10.74</td>\n",
              "      <td>-91.06</td>\n",
              "      <td>8.72</td>\n",
              "    </tr>\n",
              "    <tr>\n",
              "      <th>2</th>\n",
              "      <td>2015.03.19.00.45.00</td>\n",
              "      <td>14.70</td>\n",
              "      <td>-10.74</td>\n",
              "      <td>-91.17</td>\n",
              "      <td>8.76</td>\n",
              "    </tr>\n",
              "    <tr>\n",
              "      <th>3</th>\n",
              "      <td>2015.03.19.01.00.00</td>\n",
              "      <td>14.56</td>\n",
              "      <td>-10.74</td>\n",
              "      <td>-92.30</td>\n",
              "      <td>9.10</td>\n",
              "    </tr>\n",
              "    <tr>\n",
              "      <th>4</th>\n",
              "      <td>2015.03.19.01.15.00</td>\n",
              "      <td>14.55</td>\n",
              "      <td>-10.74</td>\n",
              "      <td>-94.09</td>\n",
              "      <td>8.81</td>\n",
              "    </tr>\n",
              "    <tr>\n",
              "      <th>...</th>\n",
              "      <td>...</td>\n",
              "      <td>...</td>\n",
              "      <td>...</td>\n",
              "      <td>...</td>\n",
              "      <td>...</td>\n",
              "    </tr>\n",
              "    <tr>\n",
              "      <th>32231</th>\n",
              "      <td>2016.03.31.11.45.00</td>\n",
              "      <td>14.80</td>\n",
              "      <td>-10.38</td>\n",
              "      <td>-97.99</td>\n",
              "      <td>9.73</td>\n",
              "    </tr>\n",
              "    <tr>\n",
              "      <th>32232</th>\n",
              "      <td>2016.03.31.12.00.00</td>\n",
              "      <td>14.80</td>\n",
              "      <td>-10.38</td>\n",
              "      <td>-98.45</td>\n",
              "      <td>9.68</td>\n",
              "    </tr>\n",
              "    <tr>\n",
              "      <th>32233</th>\n",
              "      <td>2016.03.31.12.15.00</td>\n",
              "      <td>14.80</td>\n",
              "      <td>-10.38</td>\n",
              "      <td>-97.97</td>\n",
              "      <td>9.71</td>\n",
              "    </tr>\n",
              "    <tr>\n",
              "      <th>32234</th>\n",
              "      <td>2016.03.31.12.30.00</td>\n",
              "      <td>14.80</td>\n",
              "      <td>-10.38</td>\n",
              "      <td>-97.88</td>\n",
              "      <td>9.81</td>\n",
              "    </tr>\n",
              "    <tr>\n",
              "      <th>32235</th>\n",
              "      <td>2016.03.31.12.45.00</td>\n",
              "      <td>14.82</td>\n",
              "      <td>-10.38</td>\n",
              "      <td>-98.19</td>\n",
              "      <td>9.82</td>\n",
              "    </tr>\n",
              "  </tbody>\n",
              "</table>\n",
              "<p>32236 rows × 5 columns</p>\n",
              "</div>\n",
              "      <button class=\"colab-df-convert\" onclick=\"convertToInteractive('df-09b76c8c-ce65-478e-a22b-f9c46a15788d')\"\n",
              "              title=\"Convert this dataframe to an interactive table.\"\n",
              "              style=\"display:none;\">\n",
              "        \n",
              "  <svg xmlns=\"http://www.w3.org/2000/svg\" height=\"24px\"viewBox=\"0 0 24 24\"\n",
              "       width=\"24px\">\n",
              "    <path d=\"M0 0h24v24H0V0z\" fill=\"none\"/>\n",
              "    <path d=\"M18.56 5.44l.94 2.06.94-2.06 2.06-.94-2.06-.94-.94-2.06-.94 2.06-2.06.94zm-11 1L8.5 8.5l.94-2.06 2.06-.94-2.06-.94L8.5 2.5l-.94 2.06-2.06.94zm10 10l.94 2.06.94-2.06 2.06-.94-2.06-.94-.94-2.06-.94 2.06-2.06.94z\"/><path d=\"M17.41 7.96l-1.37-1.37c-.4-.4-.92-.59-1.43-.59-.52 0-1.04.2-1.43.59L10.3 9.45l-7.72 7.72c-.78.78-.78 2.05 0 2.83L4 21.41c.39.39.9.59 1.41.59.51 0 1.02-.2 1.41-.59l7.78-7.78 2.81-2.81c.8-.78.8-2.07 0-2.86zM5.41 20L4 18.59l7.72-7.72 1.47 1.35L5.41 20z\"/>\n",
              "  </svg>\n",
              "      </button>\n",
              "      \n",
              "  <style>\n",
              "    .colab-df-container {\n",
              "      display:flex;\n",
              "      flex-wrap:wrap;\n",
              "      gap: 12px;\n",
              "    }\n",
              "\n",
              "    .colab-df-convert {\n",
              "      background-color: #E8F0FE;\n",
              "      border: none;\n",
              "      border-radius: 50%;\n",
              "      cursor: pointer;\n",
              "      display: none;\n",
              "      fill: #1967D2;\n",
              "      height: 32px;\n",
              "      padding: 0 0 0 0;\n",
              "      width: 32px;\n",
              "    }\n",
              "\n",
              "    .colab-df-convert:hover {\n",
              "      background-color: #E2EBFA;\n",
              "      box-shadow: 0px 1px 2px rgba(60, 64, 67, 0.3), 0px 1px 3px 1px rgba(60, 64, 67, 0.15);\n",
              "      fill: #174EA6;\n",
              "    }\n",
              "\n",
              "    [theme=dark] .colab-df-convert {\n",
              "      background-color: #3B4455;\n",
              "      fill: #D2E3FC;\n",
              "    }\n",
              "\n",
              "    [theme=dark] .colab-df-convert:hover {\n",
              "      background-color: #434B5C;\n",
              "      box-shadow: 0px 1px 3px 1px rgba(0, 0, 0, 0.15);\n",
              "      filter: drop-shadow(0px 1px 2px rgba(0, 0, 0, 0.3));\n",
              "      fill: #FFFFFF;\n",
              "    }\n",
              "  </style>\n",
              "\n",
              "      <script>\n",
              "        const buttonEl =\n",
              "          document.querySelector('#df-09b76c8c-ce65-478e-a22b-f9c46a15788d button.colab-df-convert');\n",
              "        buttonEl.style.display =\n",
              "          google.colab.kernel.accessAllowed ? 'block' : 'none';\n",
              "\n",
              "        async function convertToInteractive(key) {\n",
              "          const element = document.querySelector('#df-09b76c8c-ce65-478e-a22b-f9c46a15788d');\n",
              "          const dataTable =\n",
              "            await google.colab.kernel.invokeFunction('convertToInteractive',\n",
              "                                                     [key], {});\n",
              "          if (!dataTable) return;\n",
              "\n",
              "          const docLinkHtml = 'Like what you see? Visit the ' +\n",
              "            '<a target=\"_blank\" href=https://colab.research.google.com/notebooks/data_table.ipynb>data table notebook</a>'\n",
              "            + ' to learn more about interactive tables.';\n",
              "          element.innerHTML = '';\n",
              "          dataTable['output_type'] = 'display_data';\n",
              "          await google.colab.output.renderOutput(dataTable, element);\n",
              "          const docLink = document.createElement('div');\n",
              "          docLink.innerHTML = docLinkHtml;\n",
              "          element.appendChild(docLink);\n",
              "        }\n",
              "      </script>\n",
              "    </div>\n",
              "  </div>\n",
              "  "
            ]
          },
          "metadata": {},
          "execution_count": 5
        }
      ],
      "source": [
        "#drop column\n",
        "df.drop(['Data'], axis=1)"
      ]
    },
    {
      "cell_type": "code",
      "execution_count": null,
      "metadata": {
        "id": "06_tmn-dC_O1"
      },
      "outputs": [],
      "source": [
        "df['Date'] = pd.to_datetime(df['Date'] , format='%Y.%m.%d.%H.%M.%S')"
      ]
    },
    {
      "cell_type": "code",
      "source": [
        "df['Date']"
      ],
      "metadata": {
        "colab": {
          "base_uri": "https://localhost:8080/"
        },
        "id": "0HsRgoZ1LAYr",
        "outputId": "5a291f52-5685-43a5-9e68-f521a005d44d"
      },
      "execution_count": null,
      "outputs": [
        {
          "output_type": "execute_result",
          "data": {
            "text/plain": [
              "0       2015-03-19 00:15:00\n",
              "1       2015-03-19 00:30:00\n",
              "2       2015-03-19 00:45:00\n",
              "3       2015-03-19 01:00:00\n",
              "4       2015-03-19 01:15:00\n",
              "                ...        \n",
              "32231   2016-03-31 11:45:00\n",
              "32232   2016-03-31 12:00:00\n",
              "32233   2016-03-31 12:15:00\n",
              "32234   2016-03-31 12:30:00\n",
              "32235   2016-03-31 12:45:00\n",
              "Name: Date, Length: 32236, dtype: datetime64[ns]"
            ]
          },
          "metadata": {},
          "execution_count": 86
        }
      ]
    },
    {
      "cell_type": "code",
      "execution_count": null,
      "metadata": {
        "colab": {
          "base_uri": "https://localhost:8080/"
        },
        "id": "BzICerQ5Fxcq",
        "outputId": "5218a79f-331e-42d0-9571-7db23ebed66a"
      },
      "outputs": [
        {
          "output_type": "stream",
          "name": "stdout",
          "text": [
            "<class 'pandas.core.frame.DataFrame'>\n",
            "RangeIndex: 32236 entries, 0 to 32235\n",
            "Data columns (total 6 columns):\n",
            " #   Column                        Non-Null Count  Dtype         \n",
            "---  ------                        --------------  -----         \n",
            " 0   Data                          32236 non-null  object        \n",
            " 1   Date                          32236 non-null  datetime64[ns]\n",
            " 2   Q_Factor                      32236 non-null  float64       \n",
            " 3   TX_Power                      32236 non-null  float64       \n",
            " 4   Chromatic_Dispersion          32236 non-null  float64       \n",
            " 5   Polarization_Mode_Dispersion  32236 non-null  float64       \n",
            "dtypes: datetime64[ns](1), float64(4), object(1)\n",
            "memory usage: 1.5+ MB\n"
          ]
        }
      ],
      "source": [
        "df.info()"
      ]
    },
    {
      "cell_type": "code",
      "execution_count": null,
      "metadata": {
        "id": "uNY-I6SfGw2Y"
      },
      "outputs": [],
      "source": [
        "df_input = df[['Date','Q_Factor']]"
      ]
    },
    {
      "cell_type": "code",
      "source": [
        "df_input.info()"
      ],
      "metadata": {
        "colab": {
          "base_uri": "https://localhost:8080/"
        },
        "id": "ECfLuSJ1MNEZ",
        "outputId": "10c38c25-78f3-4369-ff1a-71fb1b1b9fbf"
      },
      "execution_count": null,
      "outputs": [
        {
          "output_type": "stream",
          "name": "stdout",
          "text": [
            "<class 'pandas.core.frame.DataFrame'>\n",
            "RangeIndex: 32236 entries, 0 to 32235\n",
            "Data columns (total 2 columns):\n",
            " #   Column    Non-Null Count  Dtype         \n",
            "---  ------    --------------  -----         \n",
            " 0   Date      32236 non-null  datetime64[ns]\n",
            " 1   Q_Factor  32236 non-null  float64       \n",
            "dtypes: datetime64[ns](1), float64(1)\n",
            "memory usage: 503.8 KB\n"
          ]
        }
      ]
    },
    {
      "cell_type": "code",
      "source": [
        "#sns.lineplot(x=df_input['Date'], y=df_input['Q_Factor'])\n",
        "fig, ax = plt.subplots()\n",
        "\n",
        "x=df_input['Date']\n",
        "y=df_input['Q_Factor']\n",
        "plt.xlabel('Date')\n",
        "plt.ylabel('Q Factor (dB)')\n",
        "plt.title('Dataset View')\n",
        "\n",
        "ax.plot(x,y)\n",
        "\n",
        "\n",
        "#ax.axhline(y=10, color ='r', ls = 'dotted')\n",
        "plt.show()"
      ],
      "metadata": {
        "colab": {
          "base_uri": "https://localhost:8080/",
          "height": 718
        },
        "id": "N4BvaVcMHTXa",
        "outputId": "119e552e-aca0-42bc-c503-721ea63363ec"
      },
      "execution_count": null,
      "outputs": [
        {
          "output_type": "display_data",
          "data": {
            "text/plain": [
              "<Figure size 1000x800 with 1 Axes>"
            ],
            "image/png": "[encoded data removed]"
          },
          "metadata": {}
        }
      ]
    },
    {
      "cell_type": "code",
      "source": [
        "#train, test = df_input.loc[df_input['Date'] <= '2015-11-30 00:30:00'], df_input.loc[df_input['Date'] > '2015-11-30 00:30:00']\n",
        "\n",
        "train, test = df_input.loc[df_input['Date'] <= '2015-07-30 00:30:00'], df_input.loc[df_input['Date'] > '2015-07-30 00:30:00']\n"
      ],
      "metadata": {
        "id": "-jEYaqnHI00M"
      },
      "execution_count": null,
      "outputs": []
    },
    {
      "cell_type": "code",
      "source": [
        "test['Q_Factor']"
      ],
      "metadata": {
        "id": "fRL4-ihlIClT",
        "colab": {
          "base_uri": "https://localhost:8080/"
        },
        "outputId": "ff24c562-91f1-4dff-87bc-a78f70d43c47"
      },
      "execution_count": null,
      "outputs": [
        {
          "output_type": "execute_result",
          "data": {
            "text/plain": [
              "9695     14.47\n",
              "9696     14.48\n",
              "9697     14.49\n",
              "9698     14.47\n",
              "9699     14.46\n",
              "         ...  \n",
              "32231    14.80\n",
              "32232    14.80\n",
              "32233    14.80\n",
              "32234    14.80\n",
              "32235    14.82\n",
              "Name: Q_Factor, Length: 22541, dtype: float64"
            ]
          },
          "metadata": {},
          "execution_count": 128
        }
      ]
    },
    {
      "cell_type": "code",
      "execution_count": null,
      "metadata": {
        "id": "DJORB2TzHdKw"
      },
      "outputs": [],
      "source": [
        "scaler = StandardScaler()\n",
        "scaler = scaler.fit(train[['Q_Factor']])\n"
      ]
    },
    {
      "cell_type": "code",
      "source": [
        "train['Q_Factor']"
      ],
      "metadata": {
        "colab": {
          "base_uri": "https://localhost:8080/"
        },
        "id": "EflK5ECg7RaP",
        "outputId": "4088ae96-6c53-40cb-828a-c8c4b591de2b"
      },
      "execution_count": null,
      "outputs": [
        {
          "output_type": "execute_result",
          "data": {
            "text/plain": [
              "0       2.227005\n",
              "1       2.227005\n",
              "2       2.035514\n",
              "3       0.695076\n",
              "4       0.599331\n",
              "          ...   \n",
              "9690   -0.549616\n",
              "9691   -0.358125\n",
              "9692   -0.453870\n",
              "9693   -0.453870\n",
              "9694   -0.453870\n",
              "Name: Q_Factor, Length: 9695, dtype: float64"
            ]
          },
          "metadata": {},
          "execution_count": 119
        }
      ]
    },
    {
      "cell_type": "code",
      "source": [
        "train['Q_Factor']"
      ],
      "metadata": {
        "colab": {
          "base_uri": "https://localhost:8080/"
        },
        "id": "rrH42AaUL_jt",
        "outputId": "90086c9c-4341-4357-b6f6-f1d47a138666"
      },
      "execution_count": null,
      "outputs": [
        {
          "output_type": "execute_result",
          "data": {
            "text/plain": [
              "0       14.72\n",
              "1       14.72\n",
              "2       14.70\n",
              "3       14.56\n",
              "4       14.55\n",
              "        ...  \n",
              "9690    14.43\n",
              "9691    14.45\n",
              "9692    14.44\n",
              "9693    14.44\n",
              "9694    14.44\n",
              "Name: Q_Factor, Length: 9695, dtype: float64"
            ]
          },
          "metadata": {},
          "execution_count": 130
        }
      ]
    },
    {
      "cell_type": "code",
      "source": [
        "train['Q_Factor'] = scaler.transform(train[['Q_Factor']])\n",
        "test['Q_Factor'] = scaler.transform(test[['Q_Factor']])"
      ],
      "metadata": {
        "colab": {
          "base_uri": "https://localhost:8080/"
        },
        "id": "yGFucil-OOQb",
        "outputId": "fbb135d9-774e-40bb-9c29-f0c4fb47c8f7"
      },
      "execution_count": null,
      "outputs": [
        {
          "output_type": "stream",
          "name": "stderr",
          "text": [
            "<ipython-input-134-821521f5732d>:1: SettingWithCopyWarning: \n",
            "A value is trying to be set on a copy of a slice from a DataFrame.\n",
            "Try using .loc[row_indexer,col_indexer] = value instead\n",
            "\n",
            "See the caveats in the documentation: https://pandas.pydata.org/pandas-docs/stable/user_guide/indexing.html#returning-a-view-versus-a-copy\n",
            "  train['Q_Factor'] = scaler.transform(train[['Q_Factor']])\n",
            "<ipython-input-134-821521f5732d>:2: SettingWithCopyWarning: \n",
            "A value is trying to be set on a copy of a slice from a DataFrame.\n",
            "Try using .loc[row_indexer,col_indexer] = value instead\n",
            "\n",
            "See the caveats in the documentation: https://pandas.pydata.org/pandas-docs/stable/user_guide/indexing.html#returning-a-view-versus-a-copy\n",
            "  test['Q_Factor'] = scaler.transform(test[['Q_Factor']])\n"
          ]
        }
      ]
    },
    {
      "cell_type": "code",
      "source": [
        "test"
      ],
      "metadata": {
        "colab": {
          "base_uri": "https://localhost:8080/",
          "height": 424
        },
        "id": "un4loyqaVK3i",
        "outputId": "5a290b47-612c-4b00-a073-d9b1e696d063"
      },
      "execution_count": null,
      "outputs": [
        {
          "output_type": "execute_result",
          "data": {
            "text/plain": [
              "                     Date  Q_Factor\n",
              "9695  2015-08-07 12:00:00 -0.166634\n",
              "9696  2015-08-07 12:15:00 -0.070888\n",
              "9697  2015-08-07 12:30:00  0.024857\n",
              "9698  2015-08-07 12:45:00 -0.166634\n",
              "9699  2015-08-07 13:00:00 -0.262379\n",
              "...                   ...       ...\n",
              "32231 2016-03-31 11:45:00  2.992969\n",
              "32232 2016-03-31 12:00:00  2.992969\n",
              "32233 2016-03-31 12:15:00  2.992969\n",
              "32234 2016-03-31 12:30:00  2.992969\n",
              "32235 2016-03-31 12:45:00  3.184461\n",
              "\n",
              "[22541 rows x 2 columns]"
            ],
            "text/html": [
              "\n",
              "  <div id=\"df-b93cc68d-e745-4b32-b792-bb857270c3eb\">\n",
              "    <div class=\"colab-df-container\">\n",
              "      <div>\n",
              "<style scoped>\n",
              "    .dataframe tbody tr th:only-of-type {\n",
              "        vertical-align: middle;\n",
              "    }\n",
              "\n",
              "    .dataframe tbody tr th {\n",
              "        vertical-align: top;\n",
              "    }\n",
              "\n",
              "    .dataframe thead th {\n",
              "        text-align: right;\n",
              "    }\n",
              "</style>\n",
              "<table border=\"1\" class=\"dataframe\">\n",
              "  <thead>\n",
              "    <tr style=\"text-align: right;\">\n",
              "      <th></th>\n",
              "      <th>Date</th>\n",
              "      <th>Q_Factor</th>\n",
              "    </tr>\n",
              "  </thead>\n",
              "  <tbody>\n",
              "    <tr>\n",
              "      <th>9695</th>\n",
              "      <td>2015-08-07 12:00:00</td>\n",
              "      <td>-0.166634</td>\n",
              "    </tr>\n",
              "    <tr>\n",
              "      <th>9696</th>\n",
              "      <td>2015-08-07 12:15:00</td>\n",
              "      <td>-0.070888</td>\n",
              "    </tr>\n",
              "    <tr>\n",
              "      <th>9697</th>\n",
              "      <td>2015-08-07 12:30:00</td>\n",
              "      <td>0.024857</td>\n",
              "    </tr>\n",
              "    <tr>\n",
              "      <th>9698</th>\n",
              "      <td>2015-08-07 12:45:00</td>\n",
              "      <td>-0.166634</td>\n",
              "    </tr>\n",
              "    <tr>\n",
              "      <th>9699</th>\n",
              "      <td>2015-08-07 13:00:00</td>\n",
              "      <td>-0.262379</td>\n",
              "    </tr>\n",
              "    <tr>\n",
              "      <th>...</th>\n",
              "      <td>...</td>\n",
              "      <td>...</td>\n",
              "    </tr>\n",
              "    <tr>\n",
              "      <th>32231</th>\n",
              "      <td>2016-03-31 11:45:00</td>\n",
              "      <td>2.992969</td>\n",
              "    </tr>\n",
              "    <tr>\n",
              "      <th>32232</th>\n",
              "      <td>2016-03-31 12:00:00</td>\n",
              "      <td>2.992969</td>\n",
              "    </tr>\n",
              "    <tr>\n",
              "      <th>32233</th>\n",
              "      <td>2016-03-31 12:15:00</td>\n",
              "      <td>2.992969</td>\n",
              "    </tr>\n",
              "    <tr>\n",
              "      <th>32234</th>\n",
              "      <td>2016-03-31 12:30:00</td>\n",
              "      <td>2.992969</td>\n",
              "    </tr>\n",
              "    <tr>\n",
              "      <th>32235</th>\n",
              "      <td>2016-03-31 12:45:00</td>\n",
              "      <td>3.184461</td>\n",
              "    </tr>\n",
              "  </tbody>\n",
              "</table>\n",
              "<p>22541 rows × 2 columns</p>\n",
              "</div>\n",
              "      <button class=\"colab-df-convert\" onclick=\"convertToInteractive('df-b93cc68d-e745-4b32-b792-bb857270c3eb')\"\n",
              "              title=\"Convert this dataframe to an interactive table.\"\n",
              "              style=\"display:none;\">\n",
              "        \n",
              "  <svg xmlns=\"http://www.w3.org/2000/svg\" height=\"24px\"viewBox=\"0 0 24 24\"\n",
              "       width=\"24px\">\n",
              "    <path d=\"M0 0h24v24H0V0z\" fill=\"none\"/>\n",
              "    <path d=\"M18.56 5.44l.94 2.06.94-2.06 2.06-.94-2.06-.94-.94-2.06-.94 2.06-2.06.94zm-11 1L8.5 8.5l.94-2.06 2.06-.94-2.06-.94L8.5 2.5l-.94 2.06-2.06.94zm10 10l.94 2.06.94-2.06 2.06-.94-2.06-.94-.94-2.06-.94 2.06-2.06.94z\"/><path d=\"M17.41 7.96l-1.37-1.37c-.4-.4-.92-.59-1.43-.59-.52 0-1.04.2-1.43.59L10.3 9.45l-7.72 7.72c-.78.78-.78 2.05 0 2.83L4 21.41c.39.39.9.59 1.41.59.51 0 1.02-.2 1.41-.59l7.78-7.78 2.81-2.81c.8-.78.8-2.07 0-2.86zM5.41 20L4 18.59l7.72-7.72 1.47 1.35L5.41 20z\"/>\n",
              "  </svg>\n",
              "      </button>\n",
              "      \n",
              "  <style>\n",
              "    .colab-df-container {\n",
              "      display:flex;\n",
              "      flex-wrap:wrap;\n",
              "      gap: 12px;\n",
              "    }\n",
              "\n",
              "    .colab-df-convert {\n",
              "      background-color: #E8F0FE;\n",
              "      border: none;\n",
              "      border-radius: 50%;\n",
              "      cursor: pointer;\n",
              "      display: none;\n",
              "      fill: #1967D2;\n",
              "      height: 32px;\n",
              "      padding: 0 0 0 0;\n",
              "      width: 32px;\n",
              "    }\n",
              "\n",
              "    .colab-df-convert:hover {\n",
              "      background-color: #E2EBFA;\n",
              "      box-shadow: 0px 1px 2px rgba(60, 64, 67, 0.3), 0px 1px 3px 1px rgba(60, 64, 67, 0.15);\n",
              "      fill: #174EA6;\n",
              "    }\n",
              "\n",
              "    [theme=dark] .colab-df-convert {\n",
              "      background-color: #3B4455;\n",
              "      fill: #D2E3FC;\n",
              "    }\n",
              "\n",
              "    [theme=dark] .colab-df-convert:hover {\n",
              "      background-color: #434B5C;\n",
              "      box-shadow: 0px 1px 3px 1px rgba(0, 0, 0, 0.15);\n",
              "      filter: drop-shadow(0px 1px 2px rgba(0, 0, 0, 0.3));\n",
              "      fill: #FFFFFF;\n",
              "    }\n",
              "  </style>\n",
              "\n",
              "      <script>\n",
              "        const buttonEl =\n",
              "          document.querySelector('#df-b93cc68d-e745-4b32-b792-bb857270c3eb button.colab-df-convert');\n",
              "        buttonEl.style.display =\n",
              "          google.colab.kernel.accessAllowed ? 'block' : 'none';\n",
              "\n",
              "        async function convertToInteractive(key) {\n",
              "          const element = document.querySelector('#df-b93cc68d-e745-4b32-b792-bb857270c3eb');\n",
              "          const dataTable =\n",
              "            await google.colab.kernel.invokeFunction('convertToInteractive',\n",
              "                                                     [key], {});\n",
              "          if (!dataTable) return;\n",
              "\n",
              "          const docLinkHtml = 'Like what you see? Visit the ' +\n",
              "            '<a target=\"_blank\" href=https://colab.research.google.com/notebooks/data_table.ipynb>data table notebook</a>'\n",
              "            + ' to learn more about interactive tables.';\n",
              "          element.innerHTML = '';\n",
              "          dataTable['output_type'] = 'display_data';\n",
              "          await google.colab.output.renderOutput(dataTable, element);\n",
              "          const docLink = document.createElement('div');\n",
              "          docLink.innerHTML = docLinkHtml;\n",
              "          element.appendChild(docLink);\n",
              "        }\n",
              "      </script>\n",
              "    </div>\n",
              "  </div>\n",
              "  "
            ]
          },
          "metadata": {},
          "execution_count": 121
        }
      ]
    },
    {
      "cell_type": "code",
      "source": [
        "df['Q_Factor']"
      ],
      "metadata": {
        "colab": {
          "base_uri": "https://localhost:8080/"
        },
        "id": "LT5zPsTbK9dL",
        "outputId": "5a5e2db2-4b68-471b-ae8c-34d0e3b762d7"
      },
      "execution_count": null,
      "outputs": [
        {
          "output_type": "execute_result",
          "data": {
            "text/plain": [
              "0        14.72\n",
              "1        14.72\n",
              "2        14.70\n",
              "3        14.56\n",
              "4        14.55\n",
              "         ...  \n",
              "32231    14.80\n",
              "32232    14.80\n",
              "32233    14.80\n",
              "32234    14.80\n",
              "32235    14.82\n",
              "Name: Q_Factor, Length: 32236, dtype: float64"
            ]
          },
          "metadata": {},
          "execution_count": 122
        }
      ]
    },
    {
      "cell_type": "code",
      "source": [
        "seq_size = 960 # Number of time steps to look back 120 , depend on data for sequence learning"
      ],
      "metadata": {
        "id": "hPQHD1JnOwq7"
      },
      "execution_count": null,
      "outputs": []
    },
    {
      "cell_type": "code",
      "source": [
        "def to_sequence(x, y, seq_size=1): # takes training data meanin g first 120 as x and next as y\n",
        "  x_values = []\n",
        "  y_values = []\n",
        "\n",
        "  for i in range(len(x)- seq_size):\n",
        "    x_values.append(x.iloc[i:(i+seq_size)].values)\n",
        "    y_values.append(y.iloc[i+seq_size])\n",
        "  return np.array(x_values), np.array(y_values)"
      ],
      "metadata": {
        "id": "LzETjYGQO_CJ"
      },
      "execution_count": null,
      "outputs": []
    },
    {
      "cell_type": "code",
      "source": [],
      "metadata": {
        "colab": {
          "base_uri": "https://localhost:8080/"
        },
        "id": "Nsy5EkV2L7Ds",
        "outputId": "91ac8659-513e-4a11-e964-a6d095399e4d"
      },
      "execution_count": null,
      "outputs": [
        {
          "output_type": "execute_result",
          "data": {
            "text/plain": [
              "array([[[ 2.22700506],\n",
              "        [ 2.22700506],\n",
              "        [ 2.03551395],\n",
              "        ...,\n",
              "        [-0.07088825],\n",
              "        [-0.07088825],\n",
              "        [-0.07088825]],\n",
              "\n",
              "       [[ 2.22700506],\n",
              "        [ 2.03551395],\n",
              "        [ 0.69507618],\n",
              "        ...,\n",
              "        [-0.07088825],\n",
              "        [-0.07088825],\n",
              "        [-0.26237936]],\n",
              "\n",
              "       [[ 2.03551395],\n",
              "        [ 0.69507618],\n",
              "        [ 0.59933063],\n",
              "        ...,\n",
              "        [-0.07088825],\n",
              "        [-0.26237936],\n",
              "        [-0.16663381]],\n",
              "\n",
              "       ...,\n",
              "\n",
              "       [[-0.16663381],\n",
              "        [-0.26237936],\n",
              "        [-0.54961602],\n",
              "        ...,\n",
              "        [-0.45387047],\n",
              "        [-0.54961602],\n",
              "        [-0.35812491]],\n",
              "\n",
              "       [[-0.26237936],\n",
              "        [-0.54961602],\n",
              "        [-0.45387047],\n",
              "        ...,\n",
              "        [-0.54961602],\n",
              "        [-0.35812491],\n",
              "        [-0.45387047]],\n",
              "\n",
              "       [[-0.54961602],\n",
              "        [-0.45387047],\n",
              "        [-0.45387047],\n",
              "        ...,\n",
              "        [-0.35812491],\n",
              "        [-0.45387047],\n",
              "        [-0.45387047]]])"
            ]
          },
          "metadata": {},
          "execution_count": 129
        }
      ]
    },
    {
      "cell_type": "code",
      "source": [
        "trainX, trainY = to_sequence(train[['Q_Factor']], train['Q_Factor'], seq_size)\n",
        "testX, testY = to_sequence(test[['Q_Factor']], test['Q_Factor'], seq_size)"
      ],
      "metadata": {
        "id": "98FkL2l3PtjU"
      },
      "execution_count": null,
      "outputs": []
    },
    {
      "cell_type": "code",
      "source": [
        "trainX"
      ],
      "metadata": {
        "colab": {
          "base_uri": "https://localhost:8080/"
        },
        "id": "rzYwPO77LvTT",
        "outputId": "b76ca81e-5fcb-4b1e-ff46-11f4a2f9e461"
      },
      "execution_count": null,
      "outputs": [
        {
          "output_type": "execute_result",
          "data": {
            "text/plain": [
              "array([[[ 2.22700506],\n",
              "        [ 2.22700506],\n",
              "        [ 2.03551395],\n",
              "        ...,\n",
              "        [-0.07088825],\n",
              "        [-0.07088825],\n",
              "        [-0.07088825]],\n",
              "\n",
              "       [[ 2.22700506],\n",
              "        [ 2.03551395],\n",
              "        [ 0.69507618],\n",
              "        ...,\n",
              "        [-0.07088825],\n",
              "        [-0.07088825],\n",
              "        [-0.26237936]],\n",
              "\n",
              "       [[ 2.03551395],\n",
              "        [ 0.69507618],\n",
              "        [ 0.59933063],\n",
              "        ...,\n",
              "        [-0.07088825],\n",
              "        [-0.26237936],\n",
              "        [-0.16663381]],\n",
              "\n",
              "       ...,\n",
              "\n",
              "       [[-0.16663381],\n",
              "        [-0.26237936],\n",
              "        [-0.54961602],\n",
              "        ...,\n",
              "        [-0.45387047],\n",
              "        [-0.54961602],\n",
              "        [-0.35812491]],\n",
              "\n",
              "       [[-0.26237936],\n",
              "        [-0.54961602],\n",
              "        [-0.45387047],\n",
              "        ...,\n",
              "        [-0.54961602],\n",
              "        [-0.35812491],\n",
              "        [-0.45387047]],\n",
              "\n",
              "       [[-0.54961602],\n",
              "        [-0.45387047],\n",
              "        [-0.45387047],\n",
              "        ...,\n",
              "        [-0.35812491],\n",
              "        [-0.45387047],\n",
              "        [-0.45387047]]])"
            ]
          },
          "metadata": {},
          "execution_count": 131
        }
      ]
    },
    {
      "cell_type": "code",
      "source": [
        "trainY.shape"
      ],
      "metadata": {
        "colab": {
          "base_uri": "https://localhost:8080/"
        },
        "id": "7zfQsnAKV_eR",
        "outputId": "86c8d707-ea44-47d2-d3ae-ad0eb8094cd4"
      },
      "execution_count": null,
      "outputs": [
        {
          "output_type": "execute_result",
          "data": {
            "text/plain": [
              "(9635,)"
            ]
          },
          "metadata": {},
          "execution_count": 25
        }
      ]
    },
    {
      "cell_type": "code",
      "source": [
        "trainX.shape"
      ],
      "metadata": {
        "colab": {
          "base_uri": "https://localhost:8080/"
        },
        "id": "RmZbF8mnWBki",
        "outputId": "510e3c76-e9b5-4b76-93f2-57b00b0092db"
      },
      "execution_count": null,
      "outputs": [
        {
          "output_type": "execute_result",
          "data": {
            "text/plain": [
              "(9635, 60, 1)"
            ]
          },
          "metadata": {},
          "execution_count": 26
        }
      ]
    },
    {
      "cell_type": "code",
      "source": [
        "model = Sequential()\n",
        "\n",
        "model.add(LSTM(128, input_shape=(trainX.shape[1], trainX.shape[2])))\n",
        "model.add(Dropout(rate=0.2))\n",
        "model.add(RepeatVector(trainX.shape[1]))\n",
        "model.add(LSTM(128, return_sequences=True))\n",
        "model.add(Dropout(rate=0.2))\n",
        "model.add(TimeDistributed(Dense(trainX.shape[2])))\n",
        "model.compile(optimizer='adam', loss='mae')\n"
      ],
      "metadata": {
        "id": "z0POy4UiQ6Gd"
      },
      "execution_count": null,
      "outputs": []
    },
    {
      "cell_type": "code",
      "source": [
        "model.summary()"
      ],
      "metadata": {
        "colab": {
          "base_uri": "https://localhost:8080/"
        },
        "id": "G58O8aE9XHB7",
        "outputId": "ff1e3056-eb41-4a1d-f136-30ad681c54fa"
      },
      "execution_count": null,
      "outputs": [
        {
          "output_type": "stream",
          "name": "stdout",
          "text": [
            "Model: \"sequential_1\"\n",
            "_________________________________________________________________\n",
            " Layer (type)                Output Shape              Param #   \n",
            "=================================================================\n",
            " lstm_2 (LSTM)               (None, 128)               66560     \n",
            "                                                                 \n",
            " dropout_2 (Dropout)         (None, 128)               0         \n",
            "                                                                 \n",
            " repeat_vector_1 (RepeatVect  (None, 960, 128)         0         \n",
            " or)                                                             \n",
            "                                                                 \n",
            " lstm_3 (LSTM)               (None, 960, 128)          131584    \n",
            "                                                                 \n",
            " dropout_3 (Dropout)         (None, 960, 128)          0         \n",
            "                                                                 \n",
            " time_distributed_1 (TimeDis  (None, 960, 1)           129       \n",
            " tributed)                                                       \n",
            "                                                                 \n",
            "=================================================================\n",
            "Total params: 198,273\n",
            "Trainable params: 198,273\n",
            "Non-trainable params: 0\n",
            "_________________________________________________________________\n"
          ]
        }
      ]
    },
    {
      "cell_type": "code",
      "source": [
        "\n",
        "early_stopping = tf.keras.callbacks.EarlyStopping(monitor='val_loss', patience=0, mode='min')\n",
        "\n",
        "history = model.fit(trainX, trainY, epochs=2, batch_size=16, validation_split=0.1, verbose=1, callbacks=[early_stopping])"
      ],
      "metadata": {
        "colab": {
          "base_uri": "https://localhost:8080/"
        },
        "id": "DhkSV53uRSCr",
        "outputId": "ee94070b-839f-450f-ce63-925b43c17f6a"
      },
      "execution_count": null,
      "outputs": [
        {
          "output_type": "stream",
          "name": "stdout",
          "text": [
            "Epoch 1/2\n",
            "492/492 [==============================] - 937s 2s/step - loss: 0.7747 - val_loss: 0.2599\n",
            "Epoch 2/2\n",
            "492/492 [==============================] - 918s 2s/step - loss: 0.7735 - val_loss: 0.2702\n"
          ]
        }
      ]
    },
    {
      "cell_type": "code",
      "source": [
        "#model.compile(opimizer ='adam', loss='mse')"
      ],
      "metadata": {
        "colab": {
          "base_uri": "https://localhost:8080/",
          "height": 328
        },
        "id": "S2Ma1dpnRYIa",
        "outputId": "89e673f2-7b97-4d2c-eb6b-2fc958f05226"
      },
      "execution_count": null,
      "outputs": [
        {
          "output_type": "error",
          "ename": "TypeError",
          "evalue": "ignored",
          "traceback": [
            "\u001b[0;31m---------------------------------------------------------------------------\u001b[0m",
            "\u001b[0;31mTypeError\u001b[0m                                 Traceback (most recent call last)",
            "\u001b[0;32m<ipython-input-66-2e84be02f4e7>\u001b[0m in \u001b[0;36m<cell line: 1>\u001b[0;34m()\u001b[0m\n\u001b[0;32m----> 1\u001b[0;31m \u001b[0mmodel\u001b[0m\u001b[0;34m.\u001b[0m\u001b[0mcompile\u001b[0m\u001b[0;34m(\u001b[0m\u001b[0mopimizer\u001b[0m \u001b[0;34m=\u001b[0m\u001b[0;34m'adam'\u001b[0m\u001b[0;34m,\u001b[0m \u001b[0mloss\u001b[0m\u001b[0;34m=\u001b[0m\u001b[0;34m'mse'\u001b[0m\u001b[0;34m)\u001b[0m\u001b[0;34m\u001b[0m\u001b[0;34m\u001b[0m\u001b[0m\n\u001b[0m",
            "\u001b[0;32m/usr/local/lib/python3.10/dist-packages/keras/utils/traceback_utils.py\u001b[0m in \u001b[0;36merror_handler\u001b[0;34m(*args, **kwargs)\u001b[0m\n\u001b[1;32m     68\u001b[0m             \u001b[0;31m# To get the full stack trace, call:\u001b[0m\u001b[0;34m\u001b[0m\u001b[0;34m\u001b[0m\u001b[0m\n\u001b[1;32m     69\u001b[0m             \u001b[0;31m# `tf.debugging.disable_traceback_filtering()`\u001b[0m\u001b[0;34m\u001b[0m\u001b[0;34m\u001b[0m\u001b[0m\n\u001b[0;32m---> 70\u001b[0;31m             \u001b[0;32mraise\u001b[0m \u001b[0me\u001b[0m\u001b[0;34m.\u001b[0m\u001b[0mwith_traceback\u001b[0m\u001b[0;34m(\u001b[0m\u001b[0mfiltered_tb\u001b[0m\u001b[0;34m)\u001b[0m \u001b[0;32mfrom\u001b[0m \u001b[0;32mNone\u001b[0m\u001b[0;34m\u001b[0m\u001b[0;34m\u001b[0m\u001b[0m\n\u001b[0m\u001b[1;32m     71\u001b[0m         \u001b[0;32mfinally\u001b[0m\u001b[0;34m:\u001b[0m\u001b[0;34m\u001b[0m\u001b[0;34m\u001b[0m\u001b[0m\n\u001b[1;32m     72\u001b[0m             \u001b[0;32mdel\u001b[0m \u001b[0mfiltered_tb\u001b[0m\u001b[0;34m\u001b[0m\u001b[0;34m\u001b[0m\u001b[0m\n",
            "\u001b[0;32m/usr/local/lib/python3.10/dist-packages/keras/engine/training.py\u001b[0m in \u001b[0;36m_validate_compile\u001b[0;34m(self, optimizer, metrics, **kwargs)\u001b[0m\n\u001b[1;32m   3595\u001b[0m         \u001b[0minvalid_kwargs\u001b[0m \u001b[0;34m=\u001b[0m \u001b[0mset\u001b[0m\u001b[0;34m(\u001b[0m\u001b[0mkwargs\u001b[0m\u001b[0;34m)\u001b[0m \u001b[0;34m-\u001b[0m \u001b[0;34m{\u001b[0m\u001b[0;34m\"sample_weight_mode\"\u001b[0m\u001b[0;34m}\u001b[0m\u001b[0;34m\u001b[0m\u001b[0;34m\u001b[0m\u001b[0m\n\u001b[1;32m   3596\u001b[0m         \u001b[0;32mif\u001b[0m \u001b[0minvalid_kwargs\u001b[0m\u001b[0;34m:\u001b[0m\u001b[0;34m\u001b[0m\u001b[0;34m\u001b[0m\u001b[0m\n\u001b[0;32m-> 3597\u001b[0;31m             raise TypeError(\n\u001b[0m\u001b[1;32m   3598\u001b[0m                 \u001b[0;34m\"Invalid keyword argument(s) in `compile()`: \"\u001b[0m\u001b[0;34m\u001b[0m\u001b[0;34m\u001b[0m\u001b[0m\n\u001b[1;32m   3599\u001b[0m                 \u001b[0;34mf\"{(invalid_kwargs,)}. Valid keyword arguments include \"\u001b[0m\u001b[0;34m\u001b[0m\u001b[0;34m\u001b[0m\u001b[0m\n",
            "\u001b[0;31mTypeError\u001b[0m: Invalid keyword argument(s) in `compile()`: ({'opimizer'},). Valid keyword arguments include \"cloning\", \"experimental_run_tf_function\", \"distribute\", \"target_tensors\", or \"sample_weight_mode\"."
          ]
        }
      ]
    },
    {
      "cell_type": "code",
      "source": [
        "plt.plot(history.history['loss'], label='Training loss')\n",
        "plt.plot(history.history['val_loss'], label='Validation loss')\n",
        "plt.legend()"
      ],
      "metadata": {
        "colab": {
          "base_uri": "https://localhost:8080/",
          "height": 693
        },
        "id": "4mRWzHjHOzWN",
        "outputId": "035a255c-f2e3-43ea-fe20-29e811625146"
      },
      "execution_count": null,
      "outputs": [
        {
          "output_type": "execute_result",
          "data": {
            "text/plain": [
              "<matplotlib.legend.Legend at 0x7f5d6ea28550>"
            ]
          },
          "metadata": {},
          "execution_count": 155
        },
        {
          "output_type": "display_data",
          "data": {
            "text/plain": [
              "<Figure size 1000x800 with 1 Axes>"
            ],
            "image/png": "[encoded data removed]"
          },
          "metadata": {}
        }
      ]
    },
    {
      "cell_type": "code",
      "source": [
        "trainPredict = model.predict(trainX)\n",
        "trainMAE = np.mean(np.abs(trainPredict - trainX), axis=1)   #Mean absolute error #trainX actual values\n",
        "plt.hist(trainMAE, bins=30)\n",
        "max_trainMAE = 2.3  #or Define 90% value of max as threshold."
      ],
      "metadata": {
        "colab": {
          "base_uri": "https://localhost:8080/",
          "height": 698
        },
        "id": "LiDbfhIOfuJO",
        "outputId": "e6ee5acf-039d-41d2-d341-3b923410b508"
      },
      "execution_count": null,
      "outputs": [
        {
          "output_type": "stream",
          "name": "stdout",
          "text": [
            "302/302 [==============================] - 24s 80ms/step\n"
          ]
        },
        {
          "output_type": "display_data",
          "data": {
            "text/plain": [
              "<Figure size 1000x800 with 1 Axes>"
            ],
            "image/png": "[encoded data removed]"
          },
          "metadata": {}
        }
      ]
    },
    {
      "cell_type": "code",
      "source": [
        "trainMAE"
      ],
      "metadata": {
        "colab": {
          "base_uri": "https://localhost:8080/"
        },
        "id": "7Xh80VqG0K17",
        "outputId": "f80b671c-8783-4710-a976-643c4255f05d"
      },
      "execution_count": null,
      "outputs": [
        {
          "output_type": "execute_result",
          "data": {
            "text/plain": [
              "array([[1.10419262],\n",
              "       [1.0654747 ],\n",
              "       [1.02508618],\n",
              "       ...,\n",
              "       [0.13716115],\n",
              "       [0.13734777],\n",
              "       [0.13879324]])"
            ]
          },
          "metadata": {},
          "execution_count": 31
        }
      ]
    },
    {
      "cell_type": "code",
      "source": [],
      "metadata": {
        "id": "H9bMwKN50FaW"
      },
      "execution_count": null,
      "outputs": []
    },
    {
      "cell_type": "markdown",
      "source": [
        "Look at maxmimum and make it your threshold.\n",
        "I can make thro"
      ],
      "metadata": {
        "id": "PKKPAblc1RFD"
      }
    },
    {
      "cell_type": "code",
      "source": [
        "testPredict = model.predict(testX)\n",
        "testMAE = np.mean(np.abs(testPredict - testX), axis=1)   #Mean absoute error for test\n",
        "plt.hist(testMAE, bins=30)"
      ],
      "metadata": {
        "colab": {
          "base_uri": "https://localhost:8080/",
          "height": 902
        },
        "id": "CpBuI-19f0Z0",
        "outputId": "b1555706-6c1c-4c74-9196-0db0f792d3c9"
      },
      "execution_count": null,
      "outputs": [
        {
          "output_type": "stream",
          "name": "stdout",
          "text": [
            "703/703 [==============================] - 53s 75ms/step\n"
          ]
        },
        {
          "output_type": "execute_result",
          "data": {
            "text/plain": [
              "(array([3265., 2580., 1599., 1049., 1383.,  600.,  248.,   16.,   40.,\n",
              "          23.,   31.,   61.,  201.,  354.,  388.,  504.,  180.,   33.,\n",
              "         218.,  924., 2560., 3125., 1981.,  558.,  295.,  175.,   33.,\n",
              "          17.,   17.,   23.]),\n",
              " array([0.06187997, 0.21354401, 0.36520804, 0.51687208, 0.66853611,\n",
              "        0.82020015, 0.97186418, 1.12352822, 1.27519225, 1.42685629,\n",
              "        1.57852032, 1.73018436, 1.88184839, 2.03351243, 2.18517646,\n",
              "        2.3368405 , 2.48850454, 2.64016857, 2.79183261, 2.94349664,\n",
              "        3.09516068, 3.24682471, 3.39848875, 3.55015278, 3.70181682,\n",
              "        3.85348085, 4.00514489, 4.15680892, 4.30847296, 4.46013699,\n",
              "        4.61180103]),\n",
              " <BarContainer object of 30 artists>)"
            ]
          },
          "metadata": {},
          "execution_count": 35
        },
        {
          "output_type": "display_data",
          "data": {
            "text/plain": [
              "<Figure size 1000x800 with 1 Axes>"
            ],
            "image/png": "[encoded data removed]"
          },
          "metadata": {}
        }
      ]
    },
    {
      "cell_type": "code",
      "source": [],
      "metadata": {
        "id": "5HViw1vD3IQh"
      },
      "execution_count": null,
      "outputs": []
    },
    {
      "cell_type": "code",
      "source": [
        "anomaly_df = pd.DataFrame(test[seq_size:])\n",
        "anomaly_df['testMAE'] = testMAE\n",
        "anomaly_df['max_trainMAE'] = max_trainMAE\n",
        "anomaly_df['anomaly'] = anomaly_df['testMAE'] > anomaly_df['max_trainMAE']\n",
        "anomaly_df['Q_Factor'] = test[seq_size:]['Q_Factor']\n"
      ],
      "metadata": {
        "id": "88KoyOsOf68c"
      },
      "execution_count": null,
      "outputs": []
    },
    {
      "cell_type": "code",
      "source": [
        "anomaly_df"
      ],
      "metadata": {
        "colab": {
          "base_uri": "https://localhost:8080/",
          "height": 424
        },
        "id": "D7cW_0KOcEUa",
        "outputId": "b5701ab1-b705-473f-ae1d-0e323610a730"
      },
      "execution_count": null,
      "outputs": [
        {
          "output_type": "execute_result",
          "data": {
            "text/plain": [
              "                     Date  Q_Factor   testMAE  max_trainMAE  anomaly\n",
              "9755  2015-08-08 03:00:00 -0.070888  0.272823           2.3    False\n",
              "9756  2015-08-08 03:15:00 -0.166634  0.273698           2.3    False\n",
              "9757  2015-08-08 03:30:00 -0.262379  0.272798           2.3    False\n",
              "9758  2015-08-08 03:45:00 -0.262379  0.269174           2.3    False\n",
              "9759  2015-08-08 04:00:00 -0.166634  0.267961           2.3    False\n",
              "...                   ...       ...       ...           ...      ...\n",
              "32231 2016-03-31 11:45:00  2.992969  3.173315           2.3     True\n",
              "32232 2016-03-31 12:00:00  2.992969  3.179687           2.3     True\n",
              "32233 2016-03-31 12:15:00  2.992969  3.184471           2.3     True\n",
              "32234 2016-03-31 12:30:00  2.992969  3.186065           2.3     True\n",
              "32235 2016-03-31 12:45:00  3.184461  3.187660           2.3     True\n",
              "\n",
              "[22481 rows x 5 columns]"
            ],
            "text/html": [
              "\n",
              "  <div id=\"df-9845bbcf-f23e-4e16-abb5-46837b935c7c\">\n",
              "    <div class=\"colab-df-container\">\n",
              "      <div>\n",
              "<style scoped>\n",
              "    .dataframe tbody tr th:only-of-type {\n",
              "        vertical-align: middle;\n",
              "    }\n",
              "\n",
              "    .dataframe tbody tr th {\n",
              "        vertical-align: top;\n",
              "    }\n",
              "\n",
              "    .dataframe thead th {\n",
              "        text-align: right;\n",
              "    }\n",
              "</style>\n",
              "<table border=\"1\" class=\"dataframe\">\n",
              "  <thead>\n",
              "    <tr style=\"text-align: right;\">\n",
              "      <th></th>\n",
              "      <th>Date</th>\n",
              "      <th>Q_Factor</th>\n",
              "      <th>testMAE</th>\n",
              "      <th>max_trainMAE</th>\n",
              "      <th>anomaly</th>\n",
              "    </tr>\n",
              "  </thead>\n",
              "  <tbody>\n",
              "    <tr>\n",
              "      <th>9755</th>\n",
              "      <td>2015-08-08 03:00:00</td>\n",
              "      <td>-0.070888</td>\n",
              "      <td>0.272823</td>\n",
              "      <td>2.3</td>\n",
              "      <td>False</td>\n",
              "    </tr>\n",
              "    <tr>\n",
              "      <th>9756</th>\n",
              "      <td>2015-08-08 03:15:00</td>\n",
              "      <td>-0.166634</td>\n",
              "      <td>0.273698</td>\n",
              "      <td>2.3</td>\n",
              "      <td>False</td>\n",
              "    </tr>\n",
              "    <tr>\n",
              "      <th>9757</th>\n",
              "      <td>2015-08-08 03:30:00</td>\n",
              "      <td>-0.262379</td>\n",
              "      <td>0.272798</td>\n",
              "      <td>2.3</td>\n",
              "      <td>False</td>\n",
              "    </tr>\n",
              "    <tr>\n",
              "      <th>9758</th>\n",
              "      <td>2015-08-08 03:45:00</td>\n",
              "      <td>-0.262379</td>\n",
              "      <td>0.269174</td>\n",
              "      <td>2.3</td>\n",
              "      <td>False</td>\n",
              "    </tr>\n",
              "    <tr>\n",
              "      <th>9759</th>\n",
              "      <td>2015-08-08 04:00:00</td>\n",
              "      <td>-0.166634</td>\n",
              "      <td>0.267961</td>\n",
              "      <td>2.3</td>\n",
              "      <td>False</td>\n",
              "    </tr>\n",
              "    <tr>\n",
              "      <th>...</th>\n",
              "      <td>...</td>\n",
              "      <td>...</td>\n",
              "      <td>...</td>\n",
              "      <td>...</td>\n",
              "      <td>...</td>\n",
              "    </tr>\n",
              "    <tr>\n",
              "      <th>32231</th>\n",
              "      <td>2016-03-31 11:45:00</td>\n",
              "      <td>2.992969</td>\n",
              "      <td>3.173315</td>\n",
              "      <td>2.3</td>\n",
              "      <td>True</td>\n",
              "    </tr>\n",
              "    <tr>\n",
              "      <th>32232</th>\n",
              "      <td>2016-03-31 12:00:00</td>\n",
              "      <td>2.992969</td>\n",
              "      <td>3.179687</td>\n",
              "      <td>2.3</td>\n",
              "      <td>True</td>\n",
              "    </tr>\n",
              "    <tr>\n",
              "      <th>32233</th>\n",
              "      <td>2016-03-31 12:15:00</td>\n",
              "      <td>2.992969</td>\n",
              "      <td>3.184471</td>\n",
              "      <td>2.3</td>\n",
              "      <td>True</td>\n",
              "    </tr>\n",
              "    <tr>\n",
              "      <th>32234</th>\n",
              "      <td>2016-03-31 12:30:00</td>\n",
              "      <td>2.992969</td>\n",
              "      <td>3.186065</td>\n",
              "      <td>2.3</td>\n",
              "      <td>True</td>\n",
              "    </tr>\n",
              "    <tr>\n",
              "      <th>32235</th>\n",
              "      <td>2016-03-31 12:45:00</td>\n",
              "      <td>3.184461</td>\n",
              "      <td>3.187660</td>\n",
              "      <td>2.3</td>\n",
              "      <td>True</td>\n",
              "    </tr>\n",
              "  </tbody>\n",
              "</table>\n",
              "<p>22481 rows × 5 columns</p>\n",
              "</div>\n",
              "      <button class=\"colab-df-convert\" onclick=\"convertToInteractive('df-9845bbcf-f23e-4e16-abb5-46837b935c7c')\"\n",
              "              title=\"Convert this dataframe to an interactive table.\"\n",
              "              style=\"display:none;\">\n",
              "        \n",
              "  <svg xmlns=\"http://www.w3.org/2000/svg\" height=\"24px\"viewBox=\"0 0 24 24\"\n",
              "       width=\"24px\">\n",
              "    <path d=\"M0 0h24v24H0V0z\" fill=\"none\"/>\n",
              "    <path d=\"M18.56 5.44l.94 2.06.94-2.06 2.06-.94-2.06-.94-.94-2.06-.94 2.06-2.06.94zm-11 1L8.5 8.5l.94-2.06 2.06-.94-2.06-.94L8.5 2.5l-.94 2.06-2.06.94zm10 10l.94 2.06.94-2.06 2.06-.94-2.06-.94-.94-2.06-.94 2.06-2.06.94z\"/><path d=\"M17.41 7.96l-1.37-1.37c-.4-.4-.92-.59-1.43-.59-.52 0-1.04.2-1.43.59L10.3 9.45l-7.72 7.72c-.78.78-.78 2.05 0 2.83L4 21.41c.39.39.9.59 1.41.59.51 0 1.02-.2 1.41-.59l7.78-7.78 2.81-2.81c.8-.78.8-2.07 0-2.86zM5.41 20L4 18.59l7.72-7.72 1.47 1.35L5.41 20z\"/>\n",
              "  </svg>\n",
              "      </button>\n",
              "      \n",
              "  <style>\n",
              "    .colab-df-container {\n",
              "      display:flex;\n",
              "      flex-wrap:wrap;\n",
              "      gap: 12px;\n",
              "    }\n",
              "\n",
              "    .colab-df-convert {\n",
              "      background-color: #E8F0FE;\n",
              "      border: none;\n",
              "      border-radius: 50%;\n",
              "      cursor: pointer;\n",
              "      display: none;\n",
              "      fill: #1967D2;\n",
              "      height: 32px;\n",
              "      padding: 0 0 0 0;\n",
              "      width: 32px;\n",
              "    }\n",
              "\n",
              "    .colab-df-convert:hover {\n",
              "      background-color: #E2EBFA;\n",
              "      box-shadow: 0px 1px 2px rgba(60, 64, 67, 0.3), 0px 1px 3px 1px rgba(60, 64, 67, 0.15);\n",
              "      fill: #174EA6;\n",
              "    }\n",
              "\n",
              "    [theme=dark] .colab-df-convert {\n",
              "      background-color: #3B4455;\n",
              "      fill: #D2E3FC;\n",
              "    }\n",
              "\n",
              "    [theme=dark] .colab-df-convert:hover {\n",
              "      background-color: #434B5C;\n",
              "      box-shadow: 0px 1px 3px 1px rgba(0, 0, 0, 0.15);\n",
              "      filter: drop-shadow(0px 1px 2px rgba(0, 0, 0, 0.3));\n",
              "      fill: #FFFFFF;\n",
              "    }\n",
              "  </style>\n",
              "\n",
              "      <script>\n",
              "        const buttonEl =\n",
              "          document.querySelector('#df-9845bbcf-f23e-4e16-abb5-46837b935c7c button.colab-df-convert');\n",
              "        buttonEl.style.display =\n",
              "          google.colab.kernel.accessAllowed ? 'block' : 'none';\n",
              "\n",
              "        async function convertToInteractive(key) {\n",
              "          const element = document.querySelector('#df-9845bbcf-f23e-4e16-abb5-46837b935c7c');\n",
              "          const dataTable =\n",
              "            await google.colab.kernel.invokeFunction('convertToInteractive',\n",
              "                                                     [key], {});\n",
              "          if (!dataTable) return;\n",
              "\n",
              "          const docLinkHtml = 'Like what you see? Visit the ' +\n",
              "            '<a target=\"_blank\" href=https://colab.research.google.com/notebooks/data_table.ipynb>data table notebook</a>'\n",
              "            + ' to learn more about interactive tables.';\n",
              "          element.innerHTML = '';\n",
              "          dataTable['output_type'] = 'display_data';\n",
              "          await google.colab.output.renderOutput(dataTable, element);\n",
              "          const docLink = document.createElement('div');\n",
              "          docLink.innerHTML = docLinkHtml;\n",
              "          element.appendChild(docLink);\n",
              "        }\n",
              "      </script>\n",
              "    </div>\n",
              "  </div>\n",
              "  "
            ]
          },
          "metadata": {},
          "execution_count": 37
        }
      ]
    },
    {
      "cell_type": "code",
      "source": [
        "testMAE"
      ],
      "metadata": {
        "colab": {
          "base_uri": "https://localhost:8080/"
        },
        "id": "tGosg-g6nil8",
        "outputId": "9bdf07ff-3573-4dd7-dc20-fb7db2ea1ff5"
      },
      "execution_count": null,
      "outputs": [
        {
          "output_type": "execute_result",
          "data": {
            "text/plain": [
              "array([[16.03467825],\n",
              "       [16.03461824],\n",
              "       [16.03460378],\n",
              "       ...,\n",
              "       [16.06655317],\n",
              "       [16.06656802],\n",
              "       [16.06658287]])"
            ]
          },
          "metadata": {},
          "execution_count": 112
        }
      ]
    },
    {
      "cell_type": "code",
      "source": [
        "anomaly_df"
      ],
      "metadata": {
        "colab": {
          "base_uri": "https://localhost:8080/",
          "height": 424
        },
        "id": "35WjKQ3B3QHr",
        "outputId": "529a492f-052d-456c-dd12-0905eec345cb"
      },
      "execution_count": null,
      "outputs": [
        {
          "output_type": "execute_result",
          "data": {
            "text/plain": [
              "                     Date  Q_Factor   testMAE  max_trainMAE  anomaly\n",
              "23322 2016-01-03 19:30:00  2.652974  3.098118           3.3    False\n",
              "23323 2016-01-03 19:45:00  2.732466  3.098125           3.3    False\n",
              "23324 2016-01-03 20:00:00  2.573482  3.098124           3.3    False\n",
              "23325 2016-01-03 20:15:00  2.652974  3.087552           3.3    False\n",
              "23326 2016-01-03 20:30:00  2.414499  3.084888           3.3    False\n",
              "...                   ...       ...       ...           ...      ...\n",
              "32231 2016-03-31 11:45:00  2.414499  2.774813           3.3    False\n",
              "32232 2016-03-31 12:00:00  2.414499  2.777463           3.3    False\n",
              "32233 2016-03-31 12:15:00  2.414499  2.780113           3.3    False\n",
              "32234 2016-03-31 12:30:00  2.414499  2.777464           3.3    False\n",
              "32235 2016-03-31 12:45:00  2.573482  2.780114           3.3    False\n",
              "\n",
              "[8914 rows x 5 columns]"
            ],
            "text/html": [
              "\n",
              "  <div id=\"df-e214086f-2fa0-4a08-af2f-b31c107fb8d0\">\n",
              "    <div class=\"colab-df-container\">\n",
              "      <div>\n",
              "<style scoped>\n",
              "    .dataframe tbody tr th:only-of-type {\n",
              "        vertical-align: middle;\n",
              "    }\n",
              "\n",
              "    .dataframe tbody tr th {\n",
              "        vertical-align: top;\n",
              "    }\n",
              "\n",
              "    .dataframe thead th {\n",
              "        text-align: right;\n",
              "    }\n",
              "</style>\n",
              "<table border=\"1\" class=\"dataframe\">\n",
              "  <thead>\n",
              "    <tr style=\"text-align: right;\">\n",
              "      <th></th>\n",
              "      <th>Date</th>\n",
              "      <th>Q_Factor</th>\n",
              "      <th>testMAE</th>\n",
              "      <th>max_trainMAE</th>\n",
              "      <th>anomaly</th>\n",
              "    </tr>\n",
              "  </thead>\n",
              "  <tbody>\n",
              "    <tr>\n",
              "      <th>23322</th>\n",
              "      <td>2016-01-03 19:30:00</td>\n",
              "      <td>2.652974</td>\n",
              "      <td>3.098118</td>\n",
              "      <td>3.3</td>\n",
              "      <td>False</td>\n",
              "    </tr>\n",
              "    <tr>\n",
              "      <th>23323</th>\n",
              "      <td>2016-01-03 19:45:00</td>\n",
              "      <td>2.732466</td>\n",
              "      <td>3.098125</td>\n",
              "      <td>3.3</td>\n",
              "      <td>False</td>\n",
              "    </tr>\n",
              "    <tr>\n",
              "      <th>23324</th>\n",
              "      <td>2016-01-03 20:00:00</td>\n",
              "      <td>2.573482</td>\n",
              "      <td>3.098124</td>\n",
              "      <td>3.3</td>\n",
              "      <td>False</td>\n",
              "    </tr>\n",
              "    <tr>\n",
              "      <th>23325</th>\n",
              "      <td>2016-01-03 20:15:00</td>\n",
              "      <td>2.652974</td>\n",
              "      <td>3.087552</td>\n",
              "      <td>3.3</td>\n",
              "      <td>False</td>\n",
              "    </tr>\n",
              "    <tr>\n",
              "      <th>23326</th>\n",
              "      <td>2016-01-03 20:30:00</td>\n",
              "      <td>2.414499</td>\n",
              "      <td>3.084888</td>\n",
              "      <td>3.3</td>\n",
              "      <td>False</td>\n",
              "    </tr>\n",
              "    <tr>\n",
              "      <th>...</th>\n",
              "      <td>...</td>\n",
              "      <td>...</td>\n",
              "      <td>...</td>\n",
              "      <td>...</td>\n",
              "      <td>...</td>\n",
              "    </tr>\n",
              "    <tr>\n",
              "      <th>32231</th>\n",
              "      <td>2016-03-31 11:45:00</td>\n",
              "      <td>2.414499</td>\n",
              "      <td>2.774813</td>\n",
              "      <td>3.3</td>\n",
              "      <td>False</td>\n",
              "    </tr>\n",
              "    <tr>\n",
              "      <th>32232</th>\n",
              "      <td>2016-03-31 12:00:00</td>\n",
              "      <td>2.414499</td>\n",
              "      <td>2.777463</td>\n",
              "      <td>3.3</td>\n",
              "      <td>False</td>\n",
              "    </tr>\n",
              "    <tr>\n",
              "      <th>32233</th>\n",
              "      <td>2016-03-31 12:15:00</td>\n",
              "      <td>2.414499</td>\n",
              "      <td>2.780113</td>\n",
              "      <td>3.3</td>\n",
              "      <td>False</td>\n",
              "    </tr>\n",
              "    <tr>\n",
              "      <th>32234</th>\n",
              "      <td>2016-03-31 12:30:00</td>\n",
              "      <td>2.414499</td>\n",
              "      <td>2.777464</td>\n",
              "      <td>3.3</td>\n",
              "      <td>False</td>\n",
              "    </tr>\n",
              "    <tr>\n",
              "      <th>32235</th>\n",
              "      <td>2016-03-31 12:45:00</td>\n",
              "      <td>2.573482</td>\n",
              "      <td>2.780114</td>\n",
              "      <td>3.3</td>\n",
              "      <td>False</td>\n",
              "    </tr>\n",
              "  </tbody>\n",
              "</table>\n",
              "<p>8914 rows × 5 columns</p>\n",
              "</div>\n",
              "      <button class=\"colab-df-convert\" onclick=\"convertToInteractive('df-e214086f-2fa0-4a08-af2f-b31c107fb8d0')\"\n",
              "              title=\"Convert this dataframe to an interactive table.\"\n",
              "              style=\"display:none;\">\n",
              "        \n",
              "  <svg xmlns=\"http://www.w3.org/2000/svg\" height=\"24px\"viewBox=\"0 0 24 24\"\n",
              "       width=\"24px\">\n",
              "    <path d=\"M0 0h24v24H0V0z\" fill=\"none\"/>\n",
              "    <path d=\"M18.56 5.44l.94 2.06.94-2.06 2.06-.94-2.06-.94-.94-2.06-.94 2.06-2.06.94zm-11 1L8.5 8.5l.94-2.06 2.06-.94-2.06-.94L8.5 2.5l-.94 2.06-2.06.94zm10 10l.94 2.06.94-2.06 2.06-.94-2.06-.94-.94-2.06-.94 2.06-2.06.94z\"/><path d=\"M17.41 7.96l-1.37-1.37c-.4-.4-.92-.59-1.43-.59-.52 0-1.04.2-1.43.59L10.3 9.45l-7.72 7.72c-.78.78-.78 2.05 0 2.83L4 21.41c.39.39.9.59 1.41.59.51 0 1.02-.2 1.41-.59l7.78-7.78 2.81-2.81c.8-.78.8-2.07 0-2.86zM5.41 20L4 18.59l7.72-7.72 1.47 1.35L5.41 20z\"/>\n",
              "  </svg>\n",
              "      </button>\n",
              "      \n",
              "  <style>\n",
              "    .colab-df-container {\n",
              "      display:flex;\n",
              "      flex-wrap:wrap;\n",
              "      gap: 12px;\n",
              "    }\n",
              "\n",
              "    .colab-df-convert {\n",
              "      background-color: #E8F0FE;\n",
              "      border: none;\n",
              "      border-radius: 50%;\n",
              "      cursor: pointer;\n",
              "      display: none;\n",
              "      fill: #1967D2;\n",
              "      height: 32px;\n",
              "      padding: 0 0 0 0;\n",
              "      width: 32px;\n",
              "    }\n",
              "\n",
              "    .colab-df-convert:hover {\n",
              "      background-color: #E2EBFA;\n",
              "      box-shadow: 0px 1px 2px rgba(60, 64, 67, 0.3), 0px 1px 3px 1px rgba(60, 64, 67, 0.15);\n",
              "      fill: #174EA6;\n",
              "    }\n",
              "\n",
              "    [theme=dark] .colab-df-convert {\n",
              "      background-color: #3B4455;\n",
              "      fill: #D2E3FC;\n",
              "    }\n",
              "\n",
              "    [theme=dark] .colab-df-convert:hover {\n",
              "      background-color: #434B5C;\n",
              "      box-shadow: 0px 1px 3px 1px rgba(0, 0, 0, 0.15);\n",
              "      filter: drop-shadow(0px 1px 2px rgba(0, 0, 0, 0.3));\n",
              "      fill: #FFFFFF;\n",
              "    }\n",
              "  </style>\n",
              "\n",
              "      <script>\n",
              "        const buttonEl =\n",
              "          document.querySelector('#df-e214086f-2fa0-4a08-af2f-b31c107fb8d0 button.colab-df-convert');\n",
              "        buttonEl.style.display =\n",
              "          google.colab.kernel.accessAllowed ? 'block' : 'none';\n",
              "\n",
              "        async function convertToInteractive(key) {\n",
              "          const element = document.querySelector('#df-e214086f-2fa0-4a08-af2f-b31c107fb8d0');\n",
              "          const dataTable =\n",
              "            await google.colab.kernel.invokeFunction('convertToInteractive',\n",
              "                                                     [key], {});\n",
              "          if (!dataTable) return;\n",
              "\n",
              "          const docLinkHtml = 'Like what you see? Visit the ' +\n",
              "            '<a target=\"_blank\" href=https://colab.research.google.com/notebooks/data_table.ipynb>data table notebook</a>'\n",
              "            + ' to learn more about interactive tables.';\n",
              "          element.innerHTML = '';\n",
              "          dataTable['output_type'] = 'display_data';\n",
              "          await google.colab.output.renderOutput(dataTable, element);\n",
              "          const docLink = document.createElement('div');\n",
              "          docLink.innerHTML = docLinkHtml;\n",
              "          element.appendChild(docLink);\n",
              "        }\n",
              "      </script>\n",
              "    </div>\n",
              "  </div>\n",
              "  "
            ]
          },
          "metadata": {},
          "execution_count": 78
        }
      ]
    },
    {
      "cell_type": "code",
      "source": [],
      "metadata": {
        "colab": {
          "base_uri": "https://localhost:8080/",
          "height": 165
        },
        "id": "Xyaj4O62IAjH",
        "outputId": "ed86fc63-cff7-4f30-bc3b-1e01611d63a2"
      },
      "execution_count": null,
      "outputs": [
        {
          "output_type": "error",
          "ename": "AttributeError",
          "evalue": "ignored",
          "traceback": [
            "\u001b[0;31m---------------------------------------------------------------------------\u001b[0m",
            "\u001b[0;31mAttributeError\u001b[0m                            Traceback (most recent call last)",
            "\u001b[0;32m<ipython-input-112-befe0e900110>\u001b[0m in \u001b[0;36m<cell line: 1>\u001b[0;34m()\u001b[0m\n\u001b[0;32m----> 1\u001b[0;31m \u001b[0mmax_trainMAE\u001b[0m\u001b[0;34m.\u001b[0m\u001b[0mshape\u001b[0m\u001b[0;34m\u001b[0m\u001b[0;34m\u001b[0m\u001b[0m\n\u001b[0m",
            "\u001b[0;31mAttributeError\u001b[0m: 'float' object has no attribute 'shape'"
          ]
        }
      ]
    },
    {
      "cell_type": "code",
      "source": [
        "sns.lineplot(x=anomaly_df['Date'], y=anomaly_df['testMAE'])\n",
        "sns.lineplot(x=anomaly_df['Date'], y=anomaly_df['max_trainMAE'])"
      ],
      "metadata": {
        "colab": {
          "base_uri": "https://localhost:8080/",
          "height": 713
        },
        "id": "gQ1UiAIc3CdD",
        "outputId": "beda4053-a6ba-4f8f-ef91-fc8258962d21"
      },
      "execution_count": null,
      "outputs": [
        {
          "output_type": "execute_result",
          "data": {
            "text/plain": [
              "<Axes: xlabel='Date', ylabel='testMAE'>"
            ]
          },
          "metadata": {},
          "execution_count": 38
        },
        {
          "output_type": "display_data",
          "data": {
            "text/plain": [
              "<Figure size 1000x800 with 1 Axes>"
            ],
            "image/png": "[encoded data removed]"
          },
          "metadata": {}
        }
      ]
    },
    {
      "cell_type": "code",
      "source": [
        "sns.lineplot(x=anomaly_df['Date'], y=anomaly_df['max_trainMAE'])"
      ],
      "metadata": {
        "colab": {
          "base_uri": "https://localhost:8080/",
          "height": 713
        },
        "id": "O0G6_I-yUOS0",
        "outputId": "8a62af20-49f6-4824-a90e-87951c79cb7f"
      },
      "execution_count": null,
      "outputs": [
        {
          "output_type": "execute_result",
          "data": {
            "text/plain": [
              "<Axes: xlabel='Date', ylabel='max_trainMAE'>"
            ]
          },
          "metadata": {},
          "execution_count": 147
        },
        {
          "output_type": "display_data",
          "data": {
            "text/plain": [
              "<Figure size 1000x800 with 1 Axes>"
            ],
            "image/png": "[encoded data removed]"
          },
          "metadata": {}
        }
      ]
    },
    {
      "cell_type": "code",
      "source": [],
      "metadata": {
        "id": "TxRLjwJSH_wT"
      },
      "execution_count": null,
      "outputs": []
    },
    {
      "cell_type": "code",
      "source": [
        "anomalies = anomaly_df.loc[anomaly_df['anomaly'] == True]"
      ],
      "metadata": {
        "id": "ZPBufmzM3k_8"
      },
      "execution_count": null,
      "outputs": []
    },
    {
      "cell_type": "code",
      "source": [
        "df"
      ],
      "metadata": {
        "id": "YqJikKmhWXr7"
      },
      "execution_count": null,
      "outputs": []
    },
    {
      "cell_type": "code",
      "source": [
        "anomalies.count()"
      ],
      "metadata": {
        "colab": {
          "base_uri": "https://localhost:8080/"
        },
        "id": "x2paMsmJVSy1",
        "outputId": "d0aa35a3-9063-439a-a1d4-b1f9a0d3ca11"
      },
      "execution_count": null,
      "outputs": [
        {
          "output_type": "execute_result",
          "data": {
            "text/plain": [
              "Date            10740\n",
              "Q_Factor        10740\n",
              "testMAE         10740\n",
              "max_trainMAE    10740\n",
              "anomaly         10740\n",
              "dtype: int64"
            ]
          },
          "metadata": {},
          "execution_count": 154
        }
      ]
    },
    {
      "cell_type": "code",
      "source": [
        "sns.lineplot(x=anomaly_df['Date'], y=(anomaly_df['Q_Factor']))\n",
        "sns.scatterplot(x=anomalies['Date'], y=(anomalies['Q_Factor']), color='r')"
      ],
      "metadata": {
        "colab": {
          "base_uri": "https://localhost:8080/",
          "height": 713
        },
        "id": "XvEONx6tzMNY",
        "outputId": "10451130-2d9c-444d-ced0-858f5c908be3"
      },
      "execution_count": null,
      "outputs": [
        {
          "output_type": "execute_result",
          "data": {
            "text/plain": [
              "<Axes: xlabel='Date', ylabel='Q_Factor'>"
            ]
          },
          "metadata": {},
          "execution_count": 148
        },
        {
          "output_type": "display_data",
          "data": {
            "text/plain": [
              "<Figure size 1000x800 with 1 Axes>"
            ],
            "image/png": "[encoded data removed]"
          },
          "metadata": {}
        }
      ]
    },
    {
      "cell_type": "code",
      "source": [
        "y = scaler.inverse_transform(anomaly_df['Q_Factor'].values.reshape(-1,1))\n"
      ],
      "metadata": {
        "id": "SgVLotYF5iyb"
      },
      "execution_count": null,
      "outputs": []
    },
    {
      "cell_type": "code",
      "source": [
        "y"
      ],
      "metadata": {
        "colab": {
          "base_uri": "https://localhost:8080/"
        },
        "id": "1aIdIkyxGST0",
        "outputId": "df3fc624-b957-4a42-feaa-0b2c991460c6"
      },
      "execution_count": null,
      "outputs": [
        {
          "output_type": "execute_result",
          "data": {
            "text/plain": [
              "array([[14.48],\n",
              "       [14.47],\n",
              "       [14.46],\n",
              "       ...,\n",
              "       [14.8 ],\n",
              "       [14.8 ],\n",
              "       [14.82]])"
            ]
          },
          "metadata": {},
          "execution_count": 97
        }
      ]
    },
    {
      "cell_type": "code",
      "source": [
        "y.reshape(-1,1)"
      ],
      "metadata": {
        "colab": {
          "base_uri": "https://localhost:8080/"
        },
        "id": "gfvJy2mOD_9N",
        "outputId": "f19bfdf0-b34c-408e-c3b6-b96193dc8012"
      },
      "execution_count": null,
      "outputs": [
        {
          "output_type": "execute_result",
          "data": {
            "text/plain": [
              "array([[14.48],\n",
              "       [14.47],\n",
              "       [14.46],\n",
              "       ...,\n",
              "       [14.8 ],\n",
              "       [14.8 ],\n",
              "       [14.82]])"
            ]
          },
          "metadata": {},
          "execution_count": 77
        }
      ]
    },
    {
      "cell_type": "code",
      "source": [
        "test['Q_Factor']"
      ],
      "metadata": {
        "colab": {
          "base_uri": "https://localhost:8080/"
        },
        "id": "LiI4c2klEX4T",
        "outputId": "c51988d3-a304-4b8d-924d-3a987a92b2ea"
      },
      "execution_count": null,
      "outputs": [
        {
          "output_type": "execute_result",
          "data": {
            "text/plain": [
              "9695     14.47\n",
              "9696     14.48\n",
              "9697     14.49\n",
              "9698     14.47\n",
              "9699     14.46\n",
              "         ...  \n",
              "32231    14.80\n",
              "32232    14.80\n",
              "32233    14.80\n",
              "32234    14.80\n",
              "32235    14.82\n",
              "Name: Q_Factor, Length: 22541, dtype: float64"
            ]
          },
          "metadata": {},
          "execution_count": 78
        }
      ]
    },
    {
      "cell_type": "code",
      "source": [
        "yy = anomaly_df['Q_Factor'].values.reshape(-1,1)"
      ],
      "metadata": {
        "id": "80rDE_Eg6Md5"
      },
      "execution_count": null,
      "outputs": []
    },
    {
      "cell_type": "code",
      "source": [
        "yy"
      ],
      "metadata": {
        "colab": {
          "base_uri": "https://localhost:8080/"
        },
        "id": "yC3DxPUYGORc",
        "outputId": "6230c2c1-08a1-4c2f-c2ad-9fdf571c654e"
      },
      "execution_count": null,
      "outputs": [
        {
          "output_type": "execute_result",
          "data": {
            "text/plain": [
              "array([[-0.07088825],\n",
              "       [-0.16663381],\n",
              "       [-0.26237936],\n",
              "       ...,\n",
              "       [ 2.99296949],\n",
              "       [ 2.99296949],\n",
              "       [ 3.1844606 ]])"
            ]
          },
          "metadata": {},
          "execution_count": 95
        }
      ]
    },
    {
      "cell_type": "code",
      "source": [
        "anomaly_df['Q_Factor']"
      ],
      "metadata": {
        "colab": {
          "base_uri": "https://localhost:8080/"
        },
        "id": "vdECviJKEjJb",
        "outputId": "c91a2d21-90fd-42b9-e7b5-260a59e6299c"
      },
      "execution_count": null,
      "outputs": [
        {
          "output_type": "execute_result",
          "data": {
            "text/plain": [
              "9755    -0.070888\n",
              "9756    -0.166634\n",
              "9757    -0.262379\n",
              "9758    -0.262379\n",
              "9759    -0.166634\n",
              "           ...   \n",
              "32231    2.992969\n",
              "32232    2.992969\n",
              "32233    2.992969\n",
              "32234    2.992969\n",
              "32235    3.184461\n",
              "Name: Q_Factor, Length: 22481, dtype: float64"
            ]
          },
          "metadata": {},
          "execution_count": 86
        }
      ]
    },
    {
      "cell_type": "code",
      "source": [
        "y=scaler.inverse_transform(yy)"
      ],
      "metadata": {
        "id": "PtrHHCeT4SrW"
      },
      "execution_count": null,
      "outputs": []
    },
    {
      "cell_type": "code",
      "source": [
        "yy.shape"
      ],
      "metadata": {
        "colab": {
          "base_uri": "https://localhost:8080/"
        },
        "id": "JhzoJ5hIEr9T",
        "outputId": "fae7bcc7-67f2-48b8-c92d-ae8eaa7495c1"
      },
      "execution_count": null,
      "outputs": [
        {
          "output_type": "execute_result",
          "data": {
            "text/plain": [
              "(22481, 1)"
            ]
          },
          "metadata": {},
          "execution_count": 84
        }
      ]
    },
    {
      "cell_type": "code",
      "source": [
        "y"
      ],
      "metadata": {
        "colab": {
          "base_uri": "https://localhost:8080/"
        },
        "id": "G1hu5IPVFoAT",
        "outputId": "6dacfd40-eca6-4d98-c228-f3c0aa02c2a4"
      },
      "execution_count": null,
      "outputs": [
        {
          "output_type": "execute_result",
          "data": {
            "text/plain": [
              "array([[14.48],\n",
              "       [14.47],\n",
              "       [14.46],\n",
              "       ...,\n",
              "       [14.8 ],\n",
              "       [14.8 ],\n",
              "       [14.82]])"
            ]
          },
          "metadata": {},
          "execution_count": 90
        }
      ]
    },
    {
      "cell_type": "code",
      "source": [
        "scaler.inverse_transform(anomaly_df['Q_Factor'].values(-1,1))"
      ],
      "metadata": {
        "colab": {
          "base_uri": "https://localhost:8080/",
          "height": 165
        },
        "id": "-t013dBwF49s",
        "outputId": "12ac5390-4a89-4d57-cdd1-b57f0d520d88"
      },
      "execution_count": null,
      "outputs": [
        {
          "output_type": "error",
          "ename": "TypeError",
          "evalue": "ignored",
          "traceback": [
            "\u001b[0;31m---------------------------------------------------------------------------\u001b[0m",
            "\u001b[0;31mTypeError\u001b[0m                                 Traceback (most recent call last)",
            "\u001b[0;32m<ipython-input-93-a75224feb840>\u001b[0m in \u001b[0;36m<cell line: 1>\u001b[0;34m()\u001b[0m\n\u001b[0;32m----> 1\u001b[0;31m \u001b[0mscaler\u001b[0m\u001b[0;34m.\u001b[0m\u001b[0minverse_transform\u001b[0m\u001b[0;34m(\u001b[0m\u001b[0manomaly_df\u001b[0m\u001b[0;34m[\u001b[0m\u001b[0;34m'Q_Factor'\u001b[0m\u001b[0;34m]\u001b[0m\u001b[0;34m.\u001b[0m\u001b[0mvalues\u001b[0m\u001b[0;34m(\u001b[0m\u001b[0;34m-\u001b[0m\u001b[0;36m1\u001b[0m\u001b[0;34m,\u001b[0m\u001b[0;36m1\u001b[0m\u001b[0;34m)\u001b[0m\u001b[0;34m)\u001b[0m\u001b[0;34m\u001b[0m\u001b[0;34m\u001b[0m\u001b[0m\n\u001b[0m",
            "\u001b[0;31mTypeError\u001b[0m: 'numpy.ndarray' object is not callable"
          ]
        }
      ]
    },
    {
      "cell_type": "code",
      "source": [
        "U = scaler.inverse_transform(anomaly_df['Q_Factor'].values.reshape(-1,1))\n",
        "\n",
        "A=scaler.inverse_transform(anomalies['Q_Factor'].values.reshape(-1,1))"
      ],
      "metadata": {
        "id": "MvohFwSFF5ul"
      },
      "execution_count": null,
      "outputs": []
    },
    {
      "cell_type": "code",
      "source": [
        "A"
      ],
      "metadata": {
        "colab": {
          "base_uri": "https://localhost:8080/"
        },
        "id": "tpDuVdqpGe0L",
        "outputId": "fe9b45f0-362f-446f-edc0-c2243c166da2"
      },
      "execution_count": null,
      "outputs": [
        {
          "output_type": "execute_result",
          "data": {
            "text/plain": [
              "array([[14.68],\n",
              "       [14.72],\n",
              "       [14.73],\n",
              "       ...,\n",
              "       [14.8 ],\n",
              "       [14.8 ],\n",
              "       [14.82]])"
            ]
          },
          "metadata": {},
          "execution_count": 101
        }
      ]
    },
    {
      "cell_type": "code",
      "source": [
        "U.shape"
      ],
      "metadata": {
        "colab": {
          "base_uri": "https://localhost:8080/"
        },
        "id": "fxXZrmsiG1Qk",
        "outputId": "3ea3af7b-bedf-4071-b545-be93c419faa5"
      },
      "execution_count": null,
      "outputs": [
        {
          "output_type": "execute_result",
          "data": {
            "text/plain": [
              "(22481, 1)"
            ]
          },
          "metadata": {},
          "execution_count": 106
        }
      ]
    },
    {
      "cell_type": "code",
      "source": [
        "sns.lineplot(x=anomaly_df['Date'], y=U)\n",
        "sns.scatterplot(x=anomalies['Date'], y=A, color='r')\n",
        "\n",
        "\n",
        "\n",
        "#sns.lineplot(x=anomaly_df['Date'], y=scaler.inverse_transform(yy))\n",
        "#sns.scatterplot(x=anomalies['Date'], y,color='r')"
      ],
      "metadata": {
        "colab": {
          "base_uri": "https://localhost:8080/",
          "height": 380
        },
        "id": "6I5MTJsf32qM",
        "outputId": "33d11c87-23fd-4360-8eaa-bff93d10f475"
      },
      "execution_count": null,
      "outputs": [
        {
          "output_type": "error",
          "ename": "ValueError",
          "evalue": "ignored",
          "traceback": [
            "\u001b[0;31m---------------------------------------------------------------------------\u001b[0m",
            "\u001b[0;31mValueError\u001b[0m                                Traceback (most recent call last)",
            "\u001b[0;32m<ipython-input-103-61a25f2b7caa>\u001b[0m in \u001b[0;36m<cell line: 1>\u001b[0;34m()\u001b[0m\n\u001b[0;32m----> 1\u001b[0;31m \u001b[0msns\u001b[0m\u001b[0;34m.\u001b[0m\u001b[0mlineplot\u001b[0m\u001b[0;34m(\u001b[0m\u001b[0mx\u001b[0m\u001b[0;34m=\u001b[0m\u001b[0manomaly_df\u001b[0m\u001b[0;34m[\u001b[0m\u001b[0;34m'Date'\u001b[0m\u001b[0;34m]\u001b[0m\u001b[0;34m,\u001b[0m \u001b[0my\u001b[0m\u001b[0;34m=\u001b[0m\u001b[0mU\u001b[0m\u001b[0;34m)\u001b[0m\u001b[0;34m\u001b[0m\u001b[0;34m\u001b[0m\u001b[0m\n\u001b[0m\u001b[1;32m      2\u001b[0m \u001b[0msns\u001b[0m\u001b[0;34m.\u001b[0m\u001b[0mscatterplot\u001b[0m\u001b[0;34m(\u001b[0m\u001b[0mx\u001b[0m\u001b[0;34m=\u001b[0m\u001b[0manomalies\u001b[0m\u001b[0;34m[\u001b[0m\u001b[0;34m'Date'\u001b[0m\u001b[0;34m]\u001b[0m\u001b[0;34m,\u001b[0m \u001b[0my\u001b[0m\u001b[0;34m=\u001b[0m\u001b[0mA\u001b[0m\u001b[0;34m,\u001b[0m \u001b[0mcolor\u001b[0m\u001b[0;34m=\u001b[0m\u001b[0;34m'r'\u001b[0m\u001b[0;34m)\u001b[0m\u001b[0;34m\u001b[0m\u001b[0;34m\u001b[0m\u001b[0m\n\u001b[1;32m      3\u001b[0m \u001b[0;34m\u001b[0m\u001b[0m\n\u001b[1;32m      4\u001b[0m \u001b[0;34m\u001b[0m\u001b[0m\n\u001b[1;32m      5\u001b[0m \u001b[0;34m\u001b[0m\u001b[0m\n",
            "\u001b[0;32m/usr/local/lib/python3.10/dist-packages/seaborn/relational.py\u001b[0m in \u001b[0;36mlineplot\u001b[0;34m(data, x, y, hue, size, style, units, palette, hue_order, hue_norm, sizes, size_order, size_norm, dashes, markers, style_order, estimator, errorbar, n_boot, seed, orient, sort, err_style, err_kws, legend, ci, ax, **kwargs)\u001b[0m\n\u001b[1;32m    616\u001b[0m \u001b[0;34m\u001b[0m\u001b[0m\n\u001b[1;32m    617\u001b[0m     \u001b[0mvariables\u001b[0m \u001b[0;34m=\u001b[0m \u001b[0m_LinePlotter\u001b[0m\u001b[0;34m.\u001b[0m\u001b[0mget_semantics\u001b[0m\u001b[0;34m(\u001b[0m\u001b[0mlocals\u001b[0m\u001b[0;34m(\u001b[0m\u001b[0;34m)\u001b[0m\u001b[0;34m)\u001b[0m\u001b[0;34m\u001b[0m\u001b[0;34m\u001b[0m\u001b[0m\n\u001b[0;32m--> 618\u001b[0;31m     p = _LinePlotter(\n\u001b[0m\u001b[1;32m    619\u001b[0m         \u001b[0mdata\u001b[0m\u001b[0;34m=\u001b[0m\u001b[0mdata\u001b[0m\u001b[0;34m,\u001b[0m \u001b[0mvariables\u001b[0m\u001b[0;34m=\u001b[0m\u001b[0mvariables\u001b[0m\u001b[0;34m,\u001b[0m\u001b[0;34m\u001b[0m\u001b[0;34m\u001b[0m\u001b[0m\n\u001b[1;32m    620\u001b[0m         \u001b[0mestimator\u001b[0m\u001b[0;34m=\u001b[0m\u001b[0mestimator\u001b[0m\u001b[0;34m,\u001b[0m \u001b[0mn_boot\u001b[0m\u001b[0;34m=\u001b[0m\u001b[0mn_boot\u001b[0m\u001b[0;34m,\u001b[0m \u001b[0mseed\u001b[0m\u001b[0;34m=\u001b[0m\u001b[0mseed\u001b[0m\u001b[0;34m,\u001b[0m \u001b[0merrorbar\u001b[0m\u001b[0;34m=\u001b[0m\u001b[0merrorbar\u001b[0m\u001b[0;34m,\u001b[0m\u001b[0;34m\u001b[0m\u001b[0;34m\u001b[0m\u001b[0m\n",
            "\u001b[0;32m/usr/local/lib/python3.10/dist-packages/seaborn/relational.py\u001b[0m in \u001b[0;36m__init__\u001b[0;34m(self, data, variables, estimator, n_boot, seed, errorbar, sort, orient, err_style, err_kws, legend)\u001b[0m\n\u001b[1;32m    363\u001b[0m         )\n\u001b[1;32m    364\u001b[0m \u001b[0;34m\u001b[0m\u001b[0m\n\u001b[0;32m--> 365\u001b[0;31m         \u001b[0msuper\u001b[0m\u001b[0;34m(\u001b[0m\u001b[0;34m)\u001b[0m\u001b[0;34m.\u001b[0m\u001b[0m__init__\u001b[0m\u001b[0;34m(\u001b[0m\u001b[0mdata\u001b[0m\u001b[0;34m=\u001b[0m\u001b[0mdata\u001b[0m\u001b[0;34m,\u001b[0m \u001b[0mvariables\u001b[0m\u001b[0;34m=\u001b[0m\u001b[0mvariables\u001b[0m\u001b[0;34m)\u001b[0m\u001b[0;34m\u001b[0m\u001b[0;34m\u001b[0m\u001b[0m\n\u001b[0m\u001b[1;32m    366\u001b[0m \u001b[0;34m\u001b[0m\u001b[0m\n\u001b[1;32m    367\u001b[0m         \u001b[0mself\u001b[0m\u001b[0;34m.\u001b[0m\u001b[0mestimator\u001b[0m \u001b[0;34m=\u001b[0m \u001b[0mestimator\u001b[0m\u001b[0;34m\u001b[0m\u001b[0;34m\u001b[0m\u001b[0m\n",
            "\u001b[0;32m/usr/local/lib/python3.10/dist-packages/seaborn/_oldcore.py\u001b[0m in \u001b[0;36m__init__\u001b[0;34m(self, data, variables)\u001b[0m\n\u001b[1;32m    638\u001b[0m         \u001b[0;31m# information for numeric axes would be information about log scales.\u001b[0m\u001b[0;34m\u001b[0m\u001b[0;34m\u001b[0m\u001b[0m\n\u001b[1;32m    639\u001b[0m         \u001b[0mself\u001b[0m\u001b[0;34m.\u001b[0m\u001b[0m_var_ordered\u001b[0m \u001b[0;34m=\u001b[0m \u001b[0;34m{\u001b[0m\u001b[0;34m\"x\"\u001b[0m\u001b[0;34m:\u001b[0m \u001b[0;32mFalse\u001b[0m\u001b[0;34m,\u001b[0m \u001b[0;34m\"y\"\u001b[0m\u001b[0;34m:\u001b[0m \u001b[0;32mFalse\u001b[0m\u001b[0;34m}\u001b[0m  \u001b[0;31m# alt., used DefaultDict\u001b[0m\u001b[0;34m\u001b[0m\u001b[0;34m\u001b[0m\u001b[0m\n\u001b[0;32m--> 640\u001b[0;31m         \u001b[0mself\u001b[0m\u001b[0;34m.\u001b[0m\u001b[0massign_variables\u001b[0m\u001b[0;34m(\u001b[0m\u001b[0mdata\u001b[0m\u001b[0;34m,\u001b[0m \u001b[0mvariables\u001b[0m\u001b[0;34m)\u001b[0m\u001b[0;34m\u001b[0m\u001b[0;34m\u001b[0m\u001b[0m\n\u001b[0m\u001b[1;32m    641\u001b[0m \u001b[0;34m\u001b[0m\u001b[0m\n\u001b[1;32m    642\u001b[0m         \u001b[0;32mfor\u001b[0m \u001b[0mvar\u001b[0m\u001b[0;34m,\u001b[0m \u001b[0mcls\u001b[0m \u001b[0;32min\u001b[0m \u001b[0mself\u001b[0m\u001b[0;34m.\u001b[0m\u001b[0m_semantic_mappings\u001b[0m\u001b[0;34m.\u001b[0m\u001b[0mitems\u001b[0m\u001b[0;34m(\u001b[0m\u001b[0;34m)\u001b[0m\u001b[0;34m:\u001b[0m\u001b[0;34m\u001b[0m\u001b[0;34m\u001b[0m\u001b[0m\n",
            "\u001b[0;32m/usr/local/lib/python3.10/dist-packages/seaborn/_oldcore.py\u001b[0m in \u001b[0;36massign_variables\u001b[0;34m(self, data, variables)\u001b[0m\n\u001b[1;32m    699\u001b[0m         \u001b[0;32melse\u001b[0m\u001b[0;34m:\u001b[0m\u001b[0;34m\u001b[0m\u001b[0;34m\u001b[0m\u001b[0m\n\u001b[1;32m    700\u001b[0m             \u001b[0mself\u001b[0m\u001b[0;34m.\u001b[0m\u001b[0minput_format\u001b[0m \u001b[0;34m=\u001b[0m \u001b[0;34m\"long\"\u001b[0m\u001b[0;34m\u001b[0m\u001b[0;34m\u001b[0m\u001b[0m\n\u001b[0;32m--> 701\u001b[0;31m             plot_data, variables = self._assign_variables_longform(\n\u001b[0m\u001b[1;32m    702\u001b[0m                 \u001b[0mdata\u001b[0m\u001b[0;34m,\u001b[0m \u001b[0;34m**\u001b[0m\u001b[0mvariables\u001b[0m\u001b[0;34m,\u001b[0m\u001b[0;34m\u001b[0m\u001b[0;34m\u001b[0m\u001b[0m\n\u001b[1;32m    703\u001b[0m             )\n",
            "\u001b[0;32m/usr/local/lib/python3.10/dist-packages/seaborn/_oldcore.py\u001b[0m in \u001b[0;36m_assign_variables_longform\u001b[0;34m(self, data, **kwargs)\u001b[0m\n\u001b[1;32m    960\u001b[0m         \u001b[0;31m# Construct a tidy plot DataFrame. This will convert a number of\u001b[0m\u001b[0;34m\u001b[0m\u001b[0;34m\u001b[0m\u001b[0m\n\u001b[1;32m    961\u001b[0m         \u001b[0;31m# types automatically, aligning on index in case of pandas objects\u001b[0m\u001b[0;34m\u001b[0m\u001b[0;34m\u001b[0m\u001b[0m\n\u001b[0;32m--> 962\u001b[0;31m         \u001b[0mplot_data\u001b[0m \u001b[0;34m=\u001b[0m \u001b[0mpd\u001b[0m\u001b[0;34m.\u001b[0m\u001b[0mDataFrame\u001b[0m\u001b[0;34m(\u001b[0m\u001b[0mplot_data\u001b[0m\u001b[0;34m)\u001b[0m\u001b[0;34m\u001b[0m\u001b[0;34m\u001b[0m\u001b[0m\n\u001b[0m\u001b[1;32m    963\u001b[0m \u001b[0;34m\u001b[0m\u001b[0m\n\u001b[1;32m    964\u001b[0m         \u001b[0;31m# Reduce the variables dictionary to fields with valid data\u001b[0m\u001b[0;34m\u001b[0m\u001b[0;34m\u001b[0m\u001b[0m\n",
            "\u001b[0;32m/usr/local/lib/python3.10/dist-packages/pandas/core/frame.py\u001b[0m in \u001b[0;36m__init__\u001b[0;34m(self, data, index, columns, dtype, copy)\u001b[0m\n\u001b[1;32m    662\u001b[0m         \u001b[0;32melif\u001b[0m \u001b[0misinstance\u001b[0m\u001b[0;34m(\u001b[0m\u001b[0mdata\u001b[0m\u001b[0;34m,\u001b[0m \u001b[0mdict\u001b[0m\u001b[0;34m)\u001b[0m\u001b[0;34m:\u001b[0m\u001b[0;34m\u001b[0m\u001b[0;34m\u001b[0m\u001b[0m\n\u001b[1;32m    663\u001b[0m             \u001b[0;31m# GH#38939 de facto copy defaults to False only in non-dict cases\u001b[0m\u001b[0;34m\u001b[0m\u001b[0;34m\u001b[0m\u001b[0m\n\u001b[0;32m--> 664\u001b[0;31m             \u001b[0mmgr\u001b[0m \u001b[0;34m=\u001b[0m \u001b[0mdict_to_mgr\u001b[0m\u001b[0;34m(\u001b[0m\u001b[0mdata\u001b[0m\u001b[0;34m,\u001b[0m \u001b[0mindex\u001b[0m\u001b[0;34m,\u001b[0m \u001b[0mcolumns\u001b[0m\u001b[0;34m,\u001b[0m \u001b[0mdtype\u001b[0m\u001b[0;34m=\u001b[0m\u001b[0mdtype\u001b[0m\u001b[0;34m,\u001b[0m \u001b[0mcopy\u001b[0m\u001b[0;34m=\u001b[0m\u001b[0mcopy\u001b[0m\u001b[0;34m,\u001b[0m \u001b[0mtyp\u001b[0m\u001b[0;34m=\u001b[0m\u001b[0mmanager\u001b[0m\u001b[0;34m)\u001b[0m\u001b[0;34m\u001b[0m\u001b[0;34m\u001b[0m\u001b[0m\n\u001b[0m\u001b[1;32m    665\u001b[0m         \u001b[0;32melif\u001b[0m \u001b[0misinstance\u001b[0m\u001b[0;34m(\u001b[0m\u001b[0mdata\u001b[0m\u001b[0;34m,\u001b[0m \u001b[0mma\u001b[0m\u001b[0;34m.\u001b[0m\u001b[0mMaskedArray\u001b[0m\u001b[0;34m)\u001b[0m\u001b[0;34m:\u001b[0m\u001b[0;34m\u001b[0m\u001b[0;34m\u001b[0m\u001b[0m\n\u001b[1;32m    666\u001b[0m             \u001b[0;32mimport\u001b[0m \u001b[0mnumpy\u001b[0m\u001b[0;34m.\u001b[0m\u001b[0mma\u001b[0m\u001b[0;34m.\u001b[0m\u001b[0mmrecords\u001b[0m \u001b[0;32mas\u001b[0m \u001b[0mmrecords\u001b[0m\u001b[0;34m\u001b[0m\u001b[0;34m\u001b[0m\u001b[0m\n",
            "\u001b[0;32m/usr/local/lib/python3.10/dist-packages/pandas/core/internals/construction.py\u001b[0m in \u001b[0;36mdict_to_mgr\u001b[0;34m(data, index, columns, dtype, typ, copy)\u001b[0m\n\u001b[1;32m    491\u001b[0m             \u001b[0marrays\u001b[0m \u001b[0;34m=\u001b[0m \u001b[0;34m[\u001b[0m\u001b[0mx\u001b[0m\u001b[0;34m.\u001b[0m\u001b[0mcopy\u001b[0m\u001b[0;34m(\u001b[0m\u001b[0;34m)\u001b[0m \u001b[0;32mif\u001b[0m \u001b[0mhasattr\u001b[0m\u001b[0;34m(\u001b[0m\u001b[0mx\u001b[0m\u001b[0;34m,\u001b[0m \u001b[0;34m\"dtype\"\u001b[0m\u001b[0;34m)\u001b[0m \u001b[0;32melse\u001b[0m \u001b[0mx\u001b[0m \u001b[0;32mfor\u001b[0m \u001b[0mx\u001b[0m \u001b[0;32min\u001b[0m \u001b[0marrays\u001b[0m\u001b[0;34m]\u001b[0m\u001b[0;34m\u001b[0m\u001b[0;34m\u001b[0m\u001b[0m\n\u001b[1;32m    492\u001b[0m \u001b[0;34m\u001b[0m\u001b[0m\n\u001b[0;32m--> 493\u001b[0;31m     \u001b[0;32mreturn\u001b[0m \u001b[0marrays_to_mgr\u001b[0m\u001b[0;34m(\u001b[0m\u001b[0marrays\u001b[0m\u001b[0;34m,\u001b[0m \u001b[0mcolumns\u001b[0m\u001b[0;34m,\u001b[0m \u001b[0mindex\u001b[0m\u001b[0;34m,\u001b[0m \u001b[0mdtype\u001b[0m\u001b[0;34m=\u001b[0m\u001b[0mdtype\u001b[0m\u001b[0;34m,\u001b[0m \u001b[0mtyp\u001b[0m\u001b[0;34m=\u001b[0m\u001b[0mtyp\u001b[0m\u001b[0;34m,\u001b[0m \u001b[0mconsolidate\u001b[0m\u001b[0;34m=\u001b[0m\u001b[0mcopy\u001b[0m\u001b[0;34m)\u001b[0m\u001b[0;34m\u001b[0m\u001b[0;34m\u001b[0m\u001b[0m\n\u001b[0m\u001b[1;32m    494\u001b[0m \u001b[0;34m\u001b[0m\u001b[0m\n\u001b[1;32m    495\u001b[0m \u001b[0;34m\u001b[0m\u001b[0m\n",
            "\u001b[0;32m/usr/local/lib/python3.10/dist-packages/pandas/core/internals/construction.py\u001b[0m in \u001b[0;36marrays_to_mgr\u001b[0;34m(arrays, columns, index, dtype, verify_integrity, typ, consolidate)\u001b[0m\n\u001b[1;32m    116\u001b[0m         \u001b[0;31m# figure out the index, if necessary\u001b[0m\u001b[0;34m\u001b[0m\u001b[0;34m\u001b[0m\u001b[0m\n\u001b[1;32m    117\u001b[0m         \u001b[0;32mif\u001b[0m \u001b[0mindex\u001b[0m \u001b[0;32mis\u001b[0m \u001b[0;32mNone\u001b[0m\u001b[0;34m:\u001b[0m\u001b[0;34m\u001b[0m\u001b[0;34m\u001b[0m\u001b[0m\n\u001b[0;32m--> 118\u001b[0;31m             \u001b[0mindex\u001b[0m \u001b[0;34m=\u001b[0m \u001b[0m_extract_index\u001b[0m\u001b[0;34m(\u001b[0m\u001b[0marrays\u001b[0m\u001b[0;34m)\u001b[0m\u001b[0;34m\u001b[0m\u001b[0;34m\u001b[0m\u001b[0m\n\u001b[0m\u001b[1;32m    119\u001b[0m         \u001b[0;32melse\u001b[0m\u001b[0;34m:\u001b[0m\u001b[0;34m\u001b[0m\u001b[0;34m\u001b[0m\u001b[0m\n\u001b[1;32m    120\u001b[0m             \u001b[0mindex\u001b[0m \u001b[0;34m=\u001b[0m \u001b[0mensure_index\u001b[0m\u001b[0;34m(\u001b[0m\u001b[0mindex\u001b[0m\u001b[0;34m)\u001b[0m\u001b[0;34m\u001b[0m\u001b[0;34m\u001b[0m\u001b[0m\n",
            "\u001b[0;32m/usr/local/lib/python3.10/dist-packages/pandas/core/internals/construction.py\u001b[0m in \u001b[0;36m_extract_index\u001b[0;34m(data)\u001b[0m\n\u001b[1;32m    651\u001b[0m                 \u001b[0mraw_lengths\u001b[0m\u001b[0;34m.\u001b[0m\u001b[0mappend\u001b[0m\u001b[0;34m(\u001b[0m\u001b[0mlen\u001b[0m\u001b[0;34m(\u001b[0m\u001b[0mval\u001b[0m\u001b[0;34m)\u001b[0m\u001b[0;34m)\u001b[0m\u001b[0;34m\u001b[0m\u001b[0;34m\u001b[0m\u001b[0m\n\u001b[1;32m    652\u001b[0m             \u001b[0;32melif\u001b[0m \u001b[0misinstance\u001b[0m\u001b[0;34m(\u001b[0m\u001b[0mval\u001b[0m\u001b[0;34m,\u001b[0m \u001b[0mnp\u001b[0m\u001b[0;34m.\u001b[0m\u001b[0mndarray\u001b[0m\u001b[0;34m)\u001b[0m \u001b[0;32mand\u001b[0m \u001b[0mval\u001b[0m\u001b[0;34m.\u001b[0m\u001b[0mndim\u001b[0m \u001b[0;34m>\u001b[0m \u001b[0;36m1\u001b[0m\u001b[0;34m:\u001b[0m\u001b[0;34m\u001b[0m\u001b[0;34m\u001b[0m\u001b[0m\n\u001b[0;32m--> 653\u001b[0;31m                 \u001b[0;32mraise\u001b[0m \u001b[0mValueError\u001b[0m\u001b[0;34m(\u001b[0m\u001b[0;34m\"Per-column arrays must each be 1-dimensional\"\u001b[0m\u001b[0;34m)\u001b[0m\u001b[0;34m\u001b[0m\u001b[0;34m\u001b[0m\u001b[0m\n\u001b[0m\u001b[1;32m    654\u001b[0m \u001b[0;34m\u001b[0m\u001b[0m\n\u001b[1;32m    655\u001b[0m         \u001b[0;32mif\u001b[0m \u001b[0;32mnot\u001b[0m \u001b[0mindexes\u001b[0m \u001b[0;32mand\u001b[0m \u001b[0;32mnot\u001b[0m \u001b[0mraw_lengths\u001b[0m\u001b[0;34m:\u001b[0m\u001b[0;34m\u001b[0m\u001b[0;34m\u001b[0m\u001b[0m\n",
            "\u001b[0;31mValueError\u001b[0m: Per-column arrays must each be 1-dimensional"
          ]
        }
      ]
    },
    {
      "cell_type": "code",
      "source": [
        "sns.lineplot(x=df_input['Date'], y=df_input['Q_Factor'])"
      ],
      "metadata": {
        "id": "sSmCgSa4Fdv7"
      },
      "execution_count": null,
      "outputs": []
    }
  ],
  "metadata": {
    "accelerator": "GPU",
    "colab": {
      "provenance": [],
      "gpuType": "T4",
      "authorship_tag": "ABX9TyMhLV0L4CZIud/F0dH8BKmU",
      "include_colab_link": true
    },
    "kernelspec": {
      "display_name": "Python 3",
      "name": "python3"
    },
    "language_info": {
      "name": "python"
    }
  },
  "nbformat": 4,
  "nbformat_minor": 0
}